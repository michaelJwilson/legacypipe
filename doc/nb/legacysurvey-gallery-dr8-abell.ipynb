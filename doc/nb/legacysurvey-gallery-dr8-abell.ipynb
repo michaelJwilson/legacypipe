{
 "cells": [
  {
   "cell_type": "markdown",
   "metadata": {},
   "source": [
    "# Gallery for DR8 - Abell Clusters (incomplete)\n",
    "\n",
    "The purpose of this notebook is to build a nice gallery of object images for DR8.  The theme is the Abell Clusters.\n",
    "\n",
    "For future reference: The notebook must be run from https://jupyter.nersc.gov with the following (approximate) activation script:\n",
    "\n",
    "```bash\n",
    "#!/bin/bash                                                                                                           \n",
    "version=$1                                                                                                            \n",
    "connection_file=$2                                                                                                    \n",
    "\n",
    "desiconda_version=20180512-1.2.5-img\n",
    "module use /global/common/software/desi/$NERSC_HOST/desiconda/$desiconda_version/modulefiles\n",
    "module load desiconda\n",
    "\n",
    "export LEGACYPIPE_DIR=$HOME/repos/git/legacypipe                                                                       \n",
    "\n",
    "export PATH=$LEGACYPIPE_DIR/bin:${PATH}                                                                               \n",
    "export PYTHONPATH=$LEGACYPIPE_DIR/py:${PYTHONPATH}                                                                    \n",
    "\n",
    "export DUST_DIR=/global/project/projectdirs/desi/software/${NERSC_HOST}/dust/v0_0\n",
    "\n",
    "export UNWISE_COADDS_DIR=/global/projecta/projectdirs/cosmo/work/wise/outputs/merge/neo4/fulldepth:/global/project/projectdirs/cosmo/data/unwise/allwise/unwise-coadds/fulldepth\n",
    "export UNWISE_COADDS_TIMERESOLVED_DIR=/global/projecta/projectdirs/cosmo/work/wise/outputs/merge/neo4\n",
    "\n",
    "export GAIA_CAT_DIR=/global/project/projectdirs/cosmo/work/gaia/chunks-gaia-dr2-astrom/\n",
    "export GAIA_CAT_VER=2\n",
    "\n",
    "export TYCHO2_KD_DIR=/global/project/projectdirs/cosmo/staging/tycho2\n",
    "\n",
    "export PS1CAT_DIR=/global/project/projectdirs/cosmo/work/ps1/cats/chunks-qz-star-v3 # calibration only\n",
    "\n",
    "exec python -m ipykernel -f $connection_file\n",
    "```"
   ]
  },
  {
   "cell_type": "markdown",
   "metadata": {},
   "source": [
    "### Imports and paths"
   ]
  },
  {
   "cell_type": "code",
   "execution_count": 1,
   "metadata": {},
   "outputs": [],
   "source": [
    "import os, sys\n",
    "import shutil, time, warnings\n",
    "from contextlib import redirect_stdout\n",
    "import numpy as np\n",
    "import numpy.ma as ma\n",
    "import matplotlib.pyplot as plt"
   ]
  },
  {
   "cell_type": "code",
   "execution_count": 215,
   "metadata": {},
   "outputs": [],
   "source": [
    "import fitsio\n",
    "from astropy.io import ascii\n",
    "import astropy.units as u\n",
    "from astropy.coordinates import SkyCoord, FK5\n",
    "from astropy.table import Table, vstack, Column\n",
    "from PIL import Image, ImageDraw, ImageFont"
   ]
  },
  {
   "cell_type": "code",
   "execution_count": 108,
   "metadata": {},
   "outputs": [],
   "source": [
    "from legacypipe.survey import LegacySurveyData\n",
    "from legacypipe.runbrick import run_brick\n",
    "from astrometry.util.util import Tan\n",
    "from astrometry.util.fits import merge_tables\n",
    "from astrometry.libkd.spherematch import match_radec"
   ]
  },
  {
   "cell_type": "code",
   "execution_count": 4,
   "metadata": {},
   "outputs": [],
   "source": [
    "import multiprocessing\n",
    "nproc = multiprocessing.cpu_count() // 2"
   ]
  },
  {
   "cell_type": "code",
   "execution_count": 5,
   "metadata": {},
   "outputs": [],
   "source": [
    "%matplotlib inline"
   ]
  },
  {
   "cell_type": "markdown",
   "metadata": {},
   "source": [
    "### Preliminaries\n",
    "\n",
    "Define the data release and the various output directories."
   ]
  },
  {
   "cell_type": "code",
   "execution_count": 6,
   "metadata": {},
   "outputs": [],
   "source": [
    "PIXSCALE = 0.3\n",
    "#PIXSCALE = 2.62"
   ]
  },
  {
   "cell_type": "code",
   "execution_count": 7,
   "metadata": {},
   "outputs": [],
   "source": [
    "dr = 'dr8'\n",
    "drdir = '/global/project/projectdirs/cosmo/work/legacysurvey/dr8'\n",
    "gallerydir = os.path.join( os.getenv('SCRATCH'), dr, 'gallery')\n",
    "samplefile = os.path.join(gallerydir, 'sample-{}.fits'.format(dr))"
   ]
  },
  {
   "cell_type": "code",
   "execution_count": 8,
   "metadata": {},
   "outputs": [],
   "source": [
    "jpgdir = os.path.join(gallerydir, 'jpg')\n",
    "if not os.path.isdir(jpgdir):\n",
    "    os.mkdir(jpgdir)"
   ]
  },
  {
   "cell_type": "code",
   "execution_count": 9,
   "metadata": {},
   "outputs": [],
   "source": [
    "pngdir = os.path.join(gallerydir, 'png')\n",
    "if not os.path.isdir(pngdir):\n",
    "    os.mkdir(pngdir)"
   ]
  },
  {
   "cell_type": "code",
   "execution_count": 113,
   "metadata": {},
   "outputs": [],
   "source": [
    "LSLGAfile = os.path.join(os.getenv('LARGEGALAXIES_DIR'), 'LSLGA-v2.0.fits')\n",
    "LSLGA = Table(fitsio.read(LSLGAfile, lower=True))"
   ]
  },
  {
   "cell_type": "markdown",
   "metadata": {},
   "source": [
    "### Build the sample.\n",
    "\n",
    "Use the sample of clusters from Abell et al. 1989, ApJS, 70, 1."
   ]
  },
  {
   "cell_type": "code",
   "execution_count": 300,
   "metadata": {},
   "outputs": [],
   "source": [
    "def read_abell(original=False, abellzcat=False):\n",
    "    # Read and parse the original ACO catalog.\n",
    "    abelldir = os.path.join(os.getenv('HOME'), 'research', 'data', 'catalogs', 'abell_clusters')\n",
    "    if original:\n",
    "        cat = Table(fitsio.read(os.path.join(abelldir, 'abell_clusters.fits'),\n",
    "                                columns=['aco', 'z', 'rich', '_RA_icrs', '_DE_icrs'], lower=True))\n",
    "        cat.rename_column('_ra_icrs', 'ra')\n",
    "        cat.rename_column('_de_icrs', 'dec')\n",
    "        cat.add_column(Column(name='name', data=['Abell {}'.format(aco) for aco in cat['aco']]))\n",
    "        cat.add_column(Column(name='diam', data=np.repeat(1.0, len(cat)))) # [arcmin]\n",
    "        cat = cat[(~np.isnan(cat['z']))]        \n",
    "    elif abellzcat:\n",
    "        # Read the abellzcat catalog.\n",
    "        # https://heasarc.gsfc.nasa.gov/W3Browse/galaxy-catalog/abellzcat.html\n",
    "        cat = Table(fitsio.read(os.path.join(abelldir, 'abell-zcat.fits'), lower=True))\n",
    "        # Precess the coordinates\n",
    "        #c = FK5(ra=cat['ra']*u.deg, dec=cat['dec']*u.deg, equinox='B1950').transform_to(FK5(equinox='J2000'))\n",
    "        #cat['ra'] = c.ra.value\n",
    "        #cat['dec'] = c.dec.value\n",
    "\n",
    "        cat.rename_column('abell_radius', 'diam') # =2 Mpc *diameter* (comoving) in arcmin\n",
    "        cat['diam'] /= 2\n",
    "        zcut = [zflag.strip() == '' for zflag in cat['redshift_flag']]\n",
    "        bcgcut = np.zeros(len(cat), dtype=bool)\n",
    "        distcut = np.zeros(len(cat), dtype=bool)\n",
    "        for ii, (bmclass, distclass) in enumerate(zip(cat['bautz_morgan_class'], \n",
    "                                                      cat['abell_distance_class'])):\n",
    "            try:\n",
    "                if int(bmclass.strip()) <= 2:\n",
    "                    bcgcut[ii] = True\n",
    "            except:\n",
    "                pass\n",
    "            try:\n",
    "                if int(distclass.strip()) < 4:\n",
    "                    distcut[ii] = True\n",
    "            except:\n",
    "                pass\n",
    "        magcut = cat['mag_10'] < 18\n",
    "        deccut = cat['dec'] > -15 # -30\n",
    "        #cat = cat[zcut * bcgcut * magcut * distcut]\n",
    "        #cat = cat[zcut * bcgcut * magcut * deccut]\n",
    "        cat = cat[zcut * deccut * bcgcut]\n",
    "    else:\n",
    "        cat = ascii.read(os.path.join(abelldir, 'abell-tabula.tsv'), format='basic', \n",
    "                         comment='#', delimiter='|', data_start=0, \n",
    "                         names=['abell', 'ra_hms', 'dec_hms', 'const', 'mag10', 'ngal', \n",
    "                                'diam', 'classification', 'notes'])\n",
    "        cat.add_column(Column(name='ra', length=len(cat), dtype='f8'))\n",
    "        cat.add_column(Column(name='dec', length=len(cat), dtype='f8'))\n",
    "        for ii, cc in enumerate(cat):\n",
    "            ra = np.array(cc['ra_hms'].split(':')).astype('f4')\n",
    "            dec = np.array(cc['dec_hms'].split(':')).astype('f4')\n",
    "            cat['ra'][ii] = 15. * (ra[0] + (ra[1] + ra[2]/60.)/60.)\n",
    "            cat['dec'][ii] = dec[0] + (dec[1] + dec[2]/60.)/60.\n",
    "    \n",
    "    # Cross-match with the LSLGA to ensure a nice galaxy in the mosaic.\n",
    "    m1, m2, d12 = match_radec(cat['ra'], cat['dec'], LSLGA['ra'], LSLGA['dec'],\n",
    "                              4/60, nearest=True)\n",
    "    #cat = cat[m1]\n",
    "    \n",
    "    cat.add_column(Column(name='run', length=len(cat), dtype='S14'))\n",
    "    return cat"
   ]
  },
  {
   "cell_type": "code",
   "execution_count": 301,
   "metadata": {},
   "outputs": [
    {
     "name": "stdout",
     "output_type": "stream",
     "text": [
      "68\n"
     ]
    },
    {
     "data": {
      "text/html": [
       "&lt;Table length=0&gt;\n",
       "<table id=\"table46913399492000\" class=\"table-striped table-bordered table-condensed\">\n",
       "<thead><tr><th>name</th><th>ra</th><th>dec</th><th>mag_10</th><th>redshift</th><th>redshift_flag</th><th>ref_redshift</th><th>lii</th><th>bii</th><th>abell_richness_class</th><th>abell_distance_class</th><th>bautz_morgan_class</th><th>bautz_morgan_flag</th><th>diam</th><th>log_redshift_ratio</th><th>class</th><th>run</th></tr></thead>\n",
       "<thead><tr><th>bytes10</th><th>float64</th><th>float64</th><th>float64</th><th>float64</th><th>bytes13</th><th>bytes12</th><th>float64</th><th>float64</th><th>bytes20</th><th>bytes20</th><th>bytes18</th><th>bytes17</th><th>float64</th><th>float64</th><th>bytes34</th><th>bytes14</th></tr></thead>\n",
       "</table>"
      ],
      "text/plain": [
       "<Table length=0>\n",
       "  name     ra     dec    mag_10 ...   diam  log_redshift_ratio  class    run  \n",
       "bytes10 float64 float64 float64 ... float64      float64       bytes34 bytes14\n",
       "------- ------- ------- ------- ... ------- ------------------ ------- -------"
      ]
     },
     "execution_count": 301,
     "metadata": {},
     "output_type": "execute_result"
    }
   ],
   "source": [
    "cat = read_abell(abellzcat=True)\n",
    "print(len(cat))\n",
    "cat[['370' in nn for nn in cat['name']]]"
   ]
  },
  {
   "cell_type": "code",
   "execution_count": 302,
   "metadata": {},
   "outputs": [
    {
     "data": {
      "image/png": "[encoded data removed]",
      "text/plain": [
       "<matplotlib.figure.Figure at 0x2aaae19eed30>"
      ]
     },
     "metadata": {
      "needs_background": "light"
     },
     "output_type": "display_data"
    }
   ],
   "source": [
    "#_ = plt.hist(cat['mag_10'], bins=30)\n",
    "_ = plt.hist(cat['diam'], bins=30)"
   ]
  },
  {
   "cell_type": "markdown",
   "metadata": {},
   "source": [
    "### Restrict to objects that are in the DR8 footprint."
   ]
  },
  {
   "cell_type": "code",
   "execution_count": 303,
   "metadata": {},
   "outputs": [],
   "source": [
    "def read_all_ccds(dr='dr8'):                                                                                                        \n",
    "    \"\"\"Read the CCDs files, treating DECaLS and BASS+MzLS separately.                                                               \n",
    "                                                                                                                                    \n",
    "    \"\"\"                                                                                                                             \n",
    "    from astrometry.libkd.spherematch import tree_open                                                                              \n",
    "    #survey = LegacySurveyData()                                                                                                    \n",
    "                                                                                                                                    \n",
    "    kdccds_north = []                                                                                                               \n",
    "    for camera in ('90prime', 'mosaic'):                                                                                            \n",
    "        ccdsfile = os.path.join(drdir, 'survey-ccds-{}-{}.kd.fits'.format(camera, dr))                                              \n",
    "        ccds = tree_open(ccdsfile, 'ccds')                                                                                          \n",
    "        print('Read {} CCDs from {}'.format(ccds.n, ccdsfile))                                                                      \n",
    "        kdccds_north.append((ccdsfile, ccds))                                                                                       \n",
    "                                                                                                                                    \n",
    "    ccdsfile = os.path.join(drdir, 'survey-ccds-decam-{}.kd.fits'.format(dr))                                                       \n",
    "    ccds = tree_open(ccdsfile, 'ccds')                                                                                              \n",
    "    print('Read {} CCDs from {}'.format(ccds.n, ccdsfile))                                                                          \n",
    "    kdccds_south = (ccdsfile, ccds)                                                                                                 \n",
    "                                                                                                                                    \n",
    "    return kdccds_north, kdccds_south                                                                                               "
   ]
  },
  {
   "cell_type": "code",
   "execution_count": 304,
   "metadata": {},
   "outputs": [
    {
     "name": "stdout",
     "output_type": "stream",
     "text": [
      "Read 132066 CCDs from /global/project/projectdirs/cosmo/work/legacysurvey/dr8/survey-ccds-90prime-dr8.kd.fits\n",
      "Read 206834 CCDs from /global/project/projectdirs/cosmo/work/legacysurvey/dr8/survey-ccds-mosaic-dr8.kd.fits\n",
      "Read 3913907 CCDs from /global/project/projectdirs/cosmo/work/legacysurvey/dr8/survey-ccds-decam-dr8.kd.fits\n"
     ]
    }
   ],
   "source": [
    "kdccds_north, kdccds_south = read_all_ccds()"
   ]
  },
  {
   "cell_type": "code",
   "execution_count": 305,
   "metadata": {},
   "outputs": [],
   "source": [
    "survey = LegacySurveyData()\n",
    "survey.output_dir = gallerydir"
   ]
  },
  {
   "cell_type": "code",
   "execution_count": 306,
   "metadata": {},
   "outputs": [],
   "source": [
    "def get_name(cat, nice=False):\n",
    "    name = np.atleast_1d(cat['name'])\n",
    "    if nice:\n",
    "        outname = name\n",
    "    else:\n",
    "        outname = np.array([nn.replace(' ', '-').lower() for nn in name])\n",
    "    if len(outname) == 1:\n",
    "        outname = outname[0]\n",
    "    return outname"
   ]
  },
  {
   "cell_type": "code",
   "execution_count": 307,
   "metadata": {},
   "outputs": [],
   "source": [
    "def _build_sample_one(args):\n",
    "    \"\"\"Wrapper function for the multiprocessing.\"\"\"\n",
    "    return build_sample_one(*args)"
   ]
  },
  {
   "cell_type": "code",
   "execution_count": 308,
   "metadata": {},
   "outputs": [],
   "source": [
    "def build_sample_one(cat, verbose=False):\n",
    "    \"\"\"Determine the \"run\", i.e., determine whether we should use the BASS+MzLS CCDs\n",
    "    or the DECaLS CCDs file when running the pipeline. \n",
    "\n",
    "    \"\"\"\n",
    "    from astrometry.util.fits import fits_table, merge_tables   \n",
    "    from astrometry.util.util import Tan                                    \n",
    "    from astrometry.libkd.spherematch import tree_search_radec  \n",
    "    from legacypipe.survey import ccds_touching_wcs                         \n",
    "\n",
    "    ra, dec, diam = cat['ra'], cat['dec'], cat['diam']\n",
    "    if dec < 25:                        \n",
    "        run = 'decam'                       \n",
    "    elif dec > 40:                                      \n",
    "        run = '90prime-mosaic'      \n",
    "    else:                               \n",
    "        width = np.ceil(diam * 60 / PIXSCALE).astype(int)\n",
    "        wcs = Tan(ra, dec, width/2+0.5, width/2+0.5,\n",
    "                  -PIXSCALE/3600.0, 0.0, 0.0, PIXSCALE/3600.0, \n",
    "                  float(width), float(width))  \n",
    "                        \n",
    "        # BASS+MzLS \n",
    "        TT = []         \n",
    "        for fn, kd in kdccds_north:\n",
    "            I = tree_search_radec(kd, ra, dec, 1.0)\n",
    "            if len(I) == 0:\n",
    "                continue\n",
    "            TT.append(fits_table(fn, rows=I))  \n",
    "        if len(TT) == 0:                    \n",
    "            inorth = []                     \n",
    "        else:                           \n",
    "            ccds = merge_tables(TT, columns='fillzero')     \n",
    "            inorth = ccds_touching_wcs(wcs, ccds)   \n",
    "                                    \n",
    "        # DECaLS            \n",
    "        fn, kd = kdccds_south  \n",
    "        I = tree_search_radec(kd, ra, dec, 1.0) \n",
    "        if len(I) > 0:          \n",
    "            ccds = fits_table(fn, rows=I)  \n",
    "            isouth = ccds_touching_wcs(wcs, ccds)  \n",
    "        else: \n",
    "            isouth = []\n",
    "        if len(inorth) > len(isouth): \n",
    "            run = '90prime-mosaic' \n",
    "        else:\n",
    "            run = 'decam' \n",
    "            \n",
    "        if verbose:\n",
    "            print('Cluster {}: RA, Dec={:.6f}, {:.6f}: run={} ({} north CCDs, {} south CCDs).'.format(\n",
    "                cat['name'], ra, dec, run, len(inorth), len(isouth)))\n",
    "            \n",
    "        if (len(inorth) == 0) * (len(isouth) == 0):\n",
    "            run = None\n",
    "            \n",
    "    if run:\n",
    "        cat['run'] = run\n",
    "        return cat\n",
    "    else:\n",
    "        return None"
   ]
  },
  {
   "cell_type": "code",
   "execution_count": 309,
   "metadata": {},
   "outputs": [],
   "source": [
    "def build_sample(cat, use_nproc=nproc, verbose=False):\n",
    "    \"\"\"Build the full sample with grz coverage in DR7.\"\"\"\n",
    "\n",
    "    sampleargs = list()\n",
    "    for cc in cat:\n",
    "        sampleargs.append( (cc, verbose) )\n",
    "\n",
    "    if use_nproc > 1:\n",
    "        p = multiprocessing.Pool(nproc)\n",
    "        result = p.map(_build_sample_one, sampleargs)\n",
    "        p.close()\n",
    "    else:\n",
    "        result = list()\n",
    "        for args in sampleargs:\n",
    "            result.append(_build_sample_one(args))\n",
    "\n",
    "    #result = list(zip(*result))\n",
    "    # Remove non-matching objects and write out the sample\n",
    "    outcat = vstack(list(filter(None, result)))\n",
    "    print('Found {}/{} clusters in the DR8 footprint.'.format(len(outcat), len(cat)))\n",
    "    \n",
    "    return outcat"
   ]
  },
  {
   "cell_type": "code",
   "execution_count": 310,
   "metadata": {},
   "outputs": [],
   "source": [
    "#rr = build_sample(cat, use_nproc=4, verbose=True)"
   ]
  },
  {
   "cell_type": "code",
   "execution_count": 311,
   "metadata": {},
   "outputs": [
    {
     "name": "stdout",
     "output_type": "stream",
     "text": [
      "Building the sample.\n",
      "Logging to /global/cscratch1/sd/ioannis/dr8/gallery/build-sample.log\n",
      "Found 66/68 objects in the DR8 footprint.\n",
      "Total time = 7.568 seconds.\n"
     ]
    }
   ],
   "source": [
    "samplelogfile = os.path.join(gallerydir, 'build-sample.log')\n",
    "print('Building the sample.')\n",
    "print('Logging to {}'.format(samplelogfile))\n",
    "t0 = time.time()\n",
    "with open(samplelogfile, 'w') as log:\n",
    "    with redirect_stdout(log):\n",
    "        sample = build_sample(cat)\n",
    "print('Found {}/{} objects in the DR8 footprint.'.format(len(sample), len(cat)))\n",
    "print('Total time = {:.3f} seconds.'.format(time.time() - t0))"
   ]
  },
  {
   "cell_type": "code",
   "execution_count": 312,
   "metadata": {},
   "outputs": [
    {
     "name": "stdout",
     "output_type": "stream",
     "text": [
      "Writing /global/cscratch1/sd/ioannis/dr8/gallery/sample-dr8.fits\n"
     ]
    }
   ],
   "source": [
    "print('Writing {}'.format(samplefile))\n",
    "sample.write(samplefile, overwrite=True)"
   ]
  },
  {
   "cell_type": "code",
   "execution_count": 313,
   "metadata": {},
   "outputs": [
    {
     "data": {
      "text/html": [
       "&lt;Table length=66&gt;\n",
       "<table id=\"table46913424482768\" class=\"table-striped table-bordered table-condensed\">\n",
       "<thead><tr><th>name</th><th>ra</th><th>dec</th><th>mag_10</th><th>redshift</th><th>redshift_flag</th><th>ref_redshift</th><th>lii</th><th>bii</th><th>abell_richness_class</th><th>abell_distance_class</th><th>bautz_morgan_class</th><th>bautz_morgan_flag</th><th>diam</th><th>log_redshift_ratio</th><th>class</th><th>run</th></tr></thead>\n",
       "<thead><tr><th>bytes10</th><th>float64</th><th>float64</th><th>float64</th><th>float64</th><th>bytes13</th><th>bytes12</th><th>float64</th><th>float64</th><th>bytes20</th><th>bytes20</th><th>bytes18</th><th>bytes17</th><th>float64</th><th>float64</th><th>bytes34</th><th>bytes14</th></tr></thead>\n",
       "<tr><td>ACO 2559</td><td>348.28</td><td>-13.69</td><td>17.0</td><td>0.0796</td><td></td><td>A</td><td>58.36</td><td>-63.42</td><td>1</td><td>5</td><td>2</td><td></td><td>12.1</td><td>-0.186</td><td>CLUSTER OF GALAXIES ABELL CLASS 1</td><td>decam</td></tr>\n",
       "<tr><td>ACO 1317</td><td>173.78</td><td>-13.53</td><td>16.5</td><td>0.0695</td><td></td><td>R</td><td>276.06</td><td>45.33</td><td>2</td><td>5</td><td>2</td><td></td><td>13.65</td><td>-0.139</td><td>CLUSTER OF GALAXIES ABELL CLASS 2</td><td>decam</td></tr>\n",
       "<tr><td>ACO 496</td><td>68.4</td><td>-13.25</td><td>15.3</td><td>0.032</td><td></td><td>A</td><td>209.57</td><td>-36.48</td><td>1</td><td>3</td><td>1</td><td></td><td>28.15</td><td>-0.234</td><td>CLUSTER OF GALAXIES ABELL CLASS 1</td><td>decam</td></tr>\n",
       "<tr><td>ACO 2420</td><td>332.59</td><td>-12.19</td><td>16.8</td><td>0.0838</td><td></td><td>A</td><td>46.48</td><td>-49.47</td><td>2</td><td>5</td><td>1</td><td></td><td>11.55</td><td>-0.121</td><td>CLUSTER OF GALAXIES ABELL CLASS 2</td><td>decam</td></tr>\n",
       "<tr><td>ACO 1837</td><td>210.44</td><td>-11.16</td><td>15.7</td><td>0.0376</td><td></td><td>A</td><td>329.27</td><td>48.08</td><td>1</td><td>4</td><td>2</td><td></td><td>24.15</td><td>-0.247</td><td>CLUSTER OF GALAXIES ABELL CLASS 1</td><td>decam</td></tr>\n",
       "<tr><td>ACO 2670</td><td>358.54</td><td>-10.41</td><td>15.7</td><td>0.0745</td><td></td><td>A</td><td>81.32</td><td>-68.52</td><td>3</td><td>4</td><td>2</td><td></td><td>12.85</td><td>0.05</td><td>CLUSTER OF GALAXIES ABELL CLASS &gt;2</td><td>decam</td></tr>\n",
       "<tr><td>ACO 754</td><td>137.21</td><td>-9.64</td><td>15.2</td><td>0.056</td><td></td><td>D</td><td>239.25</td><td>24.76</td><td>2</td><td>3</td><td>2</td><td></td><td>16.65</td><td>0.03</td><td>CLUSTER OF GALAXIES ABELL CLASS 2</td><td>decam</td></tr>\n",
       "<tr><td>ACO 85</td><td>10.41</td><td>-9.34</td><td>15.7</td><td>0.0518</td><td></td><td>A</td><td>115.05</td><td>-72.06</td><td>1</td><td>4</td><td>1</td><td></td><td>17.9</td><td>-0.108</td><td>CLUSTER OF GALAXIES ABELL CLASS 1</td><td>decam</td></tr>\n",
       "<tr><td>ACO 2366</td><td>325.71</td><td>-6.87</td><td>15.9</td><td>0.0542</td><td></td><td>A</td><td>48.4</td><td>-40.96</td><td>0</td><td>4</td><td>2</td><td></td><td>17.15</td><td>-0.13</td><td>CLUSTER OF GALAXIES ABELL CLASS 0</td><td>decam</td></tr>\n",
       "<tr><td>ACO 1651</td><td>194.85</td><td>-4.19</td><td>16.0</td><td>0.0825</td><td></td><td>A</td><td>306.74</td><td>58.63</td><td>1</td><td>4</td><td>2</td><td></td><td>11.7</td><td>0.032</td><td>CLUSTER OF GALAXIES ABELL CLASS 1</td><td>decam</td></tr>\n",
       "<tr><td>...</td><td>...</td><td>...</td><td>...</td><td>...</td><td>...</td><td>...</td><td>...</td><td>...</td><td>...</td><td>...</td><td>...</td><td>...</td><td>...</td><td>...</td><td>...</td><td>...</td></tr>\n",
       "<tr><td>ACO 2199</td><td>247.15</td><td>39.52</td><td>13.9</td><td>0.0303</td><td></td><td>A</td><td>62.9</td><td>43.7</td><td>2</td><td>1</td><td>1</td><td></td><td>29.65</td><td>0.033</td><td>CLUSTER OF GALAXIES ABELL CLASS 2</td><td>90prime-mosaic</td></tr>\n",
       "<tr><td>ACO 655</td><td>126.33</td><td>47.12</td><td>17.1</td><td>0.1245</td><td></td><td>A</td><td>172.67</td><td>35.13</td><td>3</td><td>5</td><td>2</td><td></td><td>8.2</td><td>-0.013</td><td>CLUSTER OF GALAXIES ABELL CLASS &gt;2</td><td>90prime-mosaic</td></tr>\n",
       "<tr><td>ACO 1468</td><td>181.41</td><td>51.42</td><td>16.0</td><td>0.0844</td><td></td><td>A</td><td>139.46</td><td>64.21</td><td>1</td><td>4</td><td>1</td><td></td><td>11.5</td><td>0.042</td><td>CLUSTER OF GALAXIES ABELL CLASS 1</td><td>90prime-mosaic</td></tr>\n",
       "<tr><td>ACO 733</td><td>135.33</td><td>55.62</td><td>17.7</td><td>0.1159</td><td></td><td>A</td><td>161.55</td><td>40.25</td><td>1</td><td>6</td><td>1</td><td></td><td>8.7</td><td>-0.229</td><td>CLUSTER OF GALAXIES ABELL CLASS 1</td><td>90prime-mosaic</td></tr>\n",
       "<tr><td>ACO 1738</td><td>201.28</td><td>57.61</td><td>16.6</td><td>0.1146</td><td></td><td>A</td><td>114.18</td><td>58.95</td><td>2</td><td>5</td><td>1</td><td></td><td>8.8</td><td>0.057</td><td>CLUSTER OF GALAXIES ABELL CLASS 2</td><td>90prime-mosaic</td></tr>\n",
       "<tr><td>ACO 1918</td><td>216.29</td><td>63.16</td><td>17.5</td><td>0.1415</td><td></td><td>A</td><td>106.41</td><td>50.86</td><td>3</td><td>6</td><td>2</td><td></td><td>7.4</td><td>-0.072</td><td>CLUSTER OF GALAXIES ABELL CLASS &gt;2</td><td>90prime-mosaic</td></tr>\n",
       "<tr><td>ACO 1576</td><td>189.2</td><td>63.19</td><td>18.0</td><td>0.302</td><td></td><td>Q</td><td>125.73</td><td>53.86</td><td>3</td><td>6</td><td>1</td><td></td><td>4.2</td><td>0.082</td><td>CLUSTER OF GALAXIES ABELL CLASS &gt;2</td><td>90prime-mosaic</td></tr>\n",
       "<tr><td>ACO 2283</td><td>266.12</td><td>69.65</td><td>17.4</td><td>0.183</td><td></td><td>A</td><td>100.04</td><td>31.11</td><td>1</td><td>6</td><td>1</td><td></td><td>6.0</td><td>0.075</td><td>CLUSTER OF GALAXIES ABELL CLASS 1</td><td>90prime-mosaic</td></tr>\n",
       "<tr><td>ACO 2271</td><td>259.32</td><td>78.02</td><td>15.7</td><td>0.0568</td><td></td><td>A</td><td>110.06</td><td>31.32</td><td>0</td><td>4</td><td>1</td><td></td><td>16.4</td><td>-0.068</td><td>CLUSTER OF GALAXIES ABELL CLASS 0</td><td>90prime-mosaic</td></tr>\n",
       "<tr><td>ACO 505</td><td>75.05</td><td>80.01</td><td>15.2</td><td>0.0543</td><td></td><td>A</td><td>132.47</td><td>22.15</td><td>0</td><td>3</td><td>1</td><td></td><td>17.1</td><td>0.017</td><td>CLUSTER OF GALAXIES ABELL CLASS 0</td><td>90prime-mosaic</td></tr>\n",
       "</table>"
      ],
      "text/plain": [
       "<Table length=66>\n",
       "  name      ra     dec   ...               class                     run      \n",
       "bytes10  float64 float64 ...              bytes34                  bytes14    \n",
       "-------- ------- ------- ... ---------------------------------- --------------\n",
       "ACO 2559  348.28  -13.69 ...  CLUSTER OF GALAXIES ABELL CLASS 1          decam\n",
       "ACO 1317  173.78  -13.53 ...  CLUSTER OF GALAXIES ABELL CLASS 2          decam\n",
       " ACO 496    68.4  -13.25 ...  CLUSTER OF GALAXIES ABELL CLASS 1          decam\n",
       "ACO 2420  332.59  -12.19 ...  CLUSTER OF GALAXIES ABELL CLASS 2          decam\n",
       "ACO 1837  210.44  -11.16 ...  CLUSTER OF GALAXIES ABELL CLASS 1          decam\n",
       "ACO 2670  358.54  -10.41 ... CLUSTER OF GALAXIES ABELL CLASS >2          decam\n",
       " ACO 754  137.21   -9.64 ...  CLUSTER OF GALAXIES ABELL CLASS 2          decam\n",
       "  ACO 85   10.41   -9.34 ...  CLUSTER OF GALAXIES ABELL CLASS 1          decam\n",
       "ACO 2366  325.71   -6.87 ...  CLUSTER OF GALAXIES ABELL CLASS 0          decam\n",
       "ACO 1651  194.85   -4.19 ...  CLUSTER OF GALAXIES ABELL CLASS 1          decam\n",
       "     ...     ...     ... ...                                ...            ...\n",
       "ACO 2199  247.15   39.52 ...  CLUSTER OF GALAXIES ABELL CLASS 2 90prime-mosaic\n",
       " ACO 655  126.33   47.12 ... CLUSTER OF GALAXIES ABELL CLASS >2 90prime-mosaic\n",
       "ACO 1468  181.41   51.42 ...  CLUSTER OF GALAXIES ABELL CLASS 1 90prime-mosaic\n",
       " ACO 733  135.33   55.62 ...  CLUSTER OF GALAXIES ABELL CLASS 1 90prime-mosaic\n",
       "ACO 1738  201.28   57.61 ...  CLUSTER OF GALAXIES ABELL CLASS 2 90prime-mosaic\n",
       "ACO 1918  216.29   63.16 ... CLUSTER OF GALAXIES ABELL CLASS >2 90prime-mosaic\n",
       "ACO 1576   189.2   63.19 ... CLUSTER OF GALAXIES ABELL CLASS >2 90prime-mosaic\n",
       "ACO 2283  266.12   69.65 ...  CLUSTER OF GALAXIES ABELL CLASS 1 90prime-mosaic\n",
       "ACO 2271  259.32   78.02 ...  CLUSTER OF GALAXIES ABELL CLASS 0 90prime-mosaic\n",
       " ACO 505   75.05   80.01 ...  CLUSTER OF GALAXIES ABELL CLASS 0 90prime-mosaic"
      ]
     },
     "execution_count": 313,
     "metadata": {},
     "output_type": "execute_result"
    }
   ],
   "source": [
    "sample"
   ]
  },
  {
   "cell_type": "code",
   "execution_count": 314,
   "metadata": {},
   "outputs": [
    {
     "name": "stdout",
     "output_type": "stream",
     "text": [
      "ACO-2559 348.28 -13.69\n",
      "ACO-1317 173.78 -13.53\n",
      "ACO-496 68.4 -13.25\n",
      "ACO-2420 332.59 -12.19\n",
      "ACO-1837 210.44 -11.16\n",
      "ACO-2670 358.54 -10.41\n",
      "ACO-754 137.21 -9.64\n",
      "ACO-85 10.41 -9.34\n",
      "ACO-2366 325.71 -6.87\n",
      "ACO-1651 194.85 -4.19\n",
      "ACO-1650 194.69 -1.75\n",
      "ACO-957 153.49 -0.92\n",
      "ACO-279 29.09 1.06\n",
      "ACO-2397 329.04 1.34\n",
      "ACO-2457 338.94 1.48\n",
      "ACO-180 20.47 3.01\n",
      "ACO-1437 180.12 3.34\n",
      "ACO-2029 227.74 5.76\n",
      "ACO-2052 229.19 7.0\n",
      "ACO-1890 214.39 8.19\n",
      "ACO-882 147.81 8.25\n",
      "ACO-2694 0.64 8.43\n",
      "ACO-1541 186.86 8.84\n",
      "ACO-1372 176.37 11.52\n",
      "ACO-399 44.49 13.02\n",
      "ACO-150 17.31 13.17\n",
      "ACO-401 44.74 13.58\n",
      "ACO-171 19.19 16.26\n",
      "ACO-2589 351.0 16.82\n",
      "ACO-1126 163.49 16.85\n",
      "ACO-1991 223.63 18.63\n",
      "ACO-1548 187.25 19.42\n",
      "ACO-2626 354.13 21.16\n",
      "ACO-2009 225.06 21.37\n",
      "ACO-468 58.18 21.41\n",
      "ACO-2107 234.95 21.77\n",
      "ACO-1413 178.84 23.37\n",
      "ACO-136 16.03 25.07\n",
      "ACO-1927 217.76 25.66\n",
      "ACO-1775 205.48 26.36\n",
      "ACO-1795 207.25 26.59\n",
      "ACO-2666 357.73 27.14\n",
      "ACO-1504 183.83 27.52\n",
      "ACO-1954 220.52 28.52\n",
      "ACO-21 5.13 28.63\n",
      "ACO-690 129.81 28.84\n",
      "ACO-77 10.14 29.52\n",
      "ACO-1487 182.96 29.99\n",
      "ACO-2110 234.93 30.71\n",
      "ACO-586 113.07 31.63\n",
      "ACO-779 139.96 33.77\n",
      "ACO-2244A 255.68 34.05\n",
      "ACO-2244B 255.68 34.05\n",
      "ACO-2124 236.25 36.06\n",
      "ACO-1785 206.17 38.15\n",
      "ACO-963 154.29 39.02\n",
      "ACO-2199 247.15 39.52\n",
      "ACO-655 126.33 47.12\n",
      "ACO-1468 181.41 51.42\n",
      "ACO-733 135.33 55.62\n",
      "ACO-1738 201.28 57.61\n",
      "ACO-1918 216.29 63.16\n",
      "ACO-1576 189.2 63.19\n",
      "ACO-2283 266.12 69.65\n",
      "ACO-2271 259.32 78.02\n",
      "ACO-505 75.05 80.01\n"
     ]
    },
    {
     "data": {
      "text/plain": [
       "[None,\n",
       " None,\n",
       " None,\n",
       " None,\n",
       " None,\n",
       " None,\n",
       " None,\n",
       " None,\n",
       " None,\n",
       " None,\n",
       " None,\n",
       " None,\n",
       " None,\n",
       " None,\n",
       " None,\n",
       " None,\n",
       " None,\n",
       " None,\n",
       " None,\n",
       " None,\n",
       " None,\n",
       " None,\n",
       " None,\n",
       " None,\n",
       " None,\n",
       " None,\n",
       " None,\n",
       " None,\n",
       " None,\n",
       " None,\n",
       " None,\n",
       " None,\n",
       " None,\n",
       " None,\n",
       " None,\n",
       " None,\n",
       " None,\n",
       " None,\n",
       " None,\n",
       " None,\n",
       " None,\n",
       " None,\n",
       " None,\n",
       " None,\n",
       " None,\n",
       " None,\n",
       " None,\n",
       " None,\n",
       " None,\n",
       " None,\n",
       " None,\n",
       " None,\n",
       " None,\n",
       " None,\n",
       " None,\n",
       " None,\n",
       " None,\n",
       " None,\n",
       " None,\n",
       " None,\n",
       " None,\n",
       " None,\n",
       " None,\n",
       " None,\n",
       " None,\n",
       " None]"
      ]
     },
     "execution_count": 314,
     "metadata": {},
     "output_type": "execute_result"
    }
   ],
   "source": [
    "[print(ss['name'].replace(' ', '-'), ss['ra'], ss['dec']) for ss in sample]\n",
    "#[print(ss['ra'], ss['dec']) for ss in sample]"
   ]
  },
  {
   "cell_type": "code",
   "execution_count": 196,
   "metadata": {},
   "outputs": [],
   "source": [
    "def qa_sample():\n",
    "    fig, ax = plt.subplots()\n",
    "    ax.scatter(cat['ra'], cat['dec'], alpha=0.5, s=10, label='Abell Catalog')\n",
    "    ax.scatter(sample['ra'], sample['dec'], s=20, marker='s', label='Objects in DR8 Footprint')\n",
    "    ax.set_xlabel('RA')\n",
    "    ax.set_ylabel('Dec')\n",
    "    ax.legend(loc='upper right')"
   ]
  },
  {
   "cell_type": "code",
   "execution_count": 197,
   "metadata": {},
   "outputs": [
    {
     "data": {
      "image/png": "[encoded data removed]",
      "text/plain": [
       "<matplotlib.figure.Figure at 0x2aaaddb36908>"
      ]
     },
     "metadata": {
      "needs_background": "light"
     },
     "output_type": "display_data"
    }
   ],
   "source": [
    "qa_sample()"
   ]
  },
  {
   "cell_type": "markdown",
   "metadata": {},
   "source": [
    "### Generate the color mosaics for each object."
   ]
  },
  {
   "cell_type": "code",
   "execution_count": 198,
   "metadata": {},
   "outputs": [],
   "source": [
    "def custom_brickname(obj, prefix='custom-'): \n",
    "    brickname = 'custom-{:06d}{}{:05d}'.format(\n",
    "        int(1000*obj['ra']), 'm' if obj['dec'] < 0 else 'p', \n",
    "        int(1000*np.abs(obj['dec'])))\n",
    "    return brickname"
   ]
  },
  {
   "cell_type": "code",
   "execution_count": 199,
   "metadata": {},
   "outputs": [],
   "source": [
    "#name = get_name(sample)\n",
    "#[print(ii, nn, d1, dd) for ii, (nn, d1, dd) in enumerate(zip(name, sample['diam'], sample['diam'] * 60 / 0.3))]\n",
    "#print(sample['diam'].data * 60 / 1)"
   ]
  },
  {
   "cell_type": "code",
   "execution_count": 207,
   "metadata": {},
   "outputs": [],
   "source": [
    "def custom_coadds_one(obj, scale=PIXSCALE, clobber=False, log=None):\n",
    "    import subprocess\n",
    "    #from legacypipe.runbrick import run_brick\n",
    "    #from astrometry.util.multiproc import multiproc\n",
    "    #from legacypipe.runbrick import stage_tims, run_brick\n",
    "    #from legacypipe.coadds import make_coadds\n",
    "\n",
    "    name = get_name(obj)\n",
    "    jpgfile = os.path.join(jpgdir, '{}.jpg'.format(name))\n",
    "    if os.path.isfile(jpgfile) and not clobber:\n",
    "        print('File {} exists...skipping.'.format(jpgfile))\n",
    "    else:\n",
    "        size = np.rint(obj['diam'] * 60 / scale).astype('int') # [pixels]\n",
    "        if size > 500:\n",
    "            size = 500\n",
    "        #print('Generating mosaic for {} with width={} pixels.'.format(name, size))\n",
    "        \n",
    "        bands = ('g', 'r', 'z')\n",
    "        rgb_kwargs = dict({'Q': 20, 'm': 0.03})\n",
    "            \n",
    "        brickname = custom_brickname(obj, prefix='custom-')\n",
    "        \n",
    "        cmd = 'python {legacypipe_dir}/py/legacypipe/runbrick.py '\n",
    "        cmd += '--radec {ra} {dec} --width {width} --height {width} --pixscale {pixscale} '\n",
    "        cmd += '--run {run} '\n",
    "        cmd += '--threads {threads} --outdir {outdir} --no-write '\n",
    "        cmd += '--apodize '\n",
    "        cmd += '--stage image_coadds --skip-calibs '\n",
    "    \n",
    "        cmd = cmd.format(legacypipe_dir=os.getenv('LEGACYPIPE_DIR'), \n",
    "                         ra=obj['ra'], dec=obj['dec'], run=obj['run'].strip(),\n",
    "                         width=size, pixscale=scale, threads=nproc, \n",
    "                         outdir=gallerydir)\n",
    "    \n",
    "        print(cmd, flush=True, file=log)\n",
    "        err = subprocess.call(cmd.split(), stdout=log, stderr=log)\n",
    "        if err != 0:\n",
    "            print('Something we wrong; please check the logfile for {}.'.format(name))\n",
    "            return 0\n",
    "        else:\n",
    "            #with warnings.catch_warnings():\n",
    "            #    warnings.simplefilter(\"ignore\")\n",
    "            #    run_brick(None, survey, radec=(obj['ra'], obj['dec']), pixscale=scale, \n",
    "            #              width=size, height=size, rgb_kwargs=rgb_kwargs, threads=nproc, \n",
    "            #              stages=['image_coadds'], splinesky=True, early_coadds=True, pixPsf=True, \n",
    "            #              hybridPsf=True, normalizePsf=True, write_pickles=False, depth_cut=False, \n",
    "            #              apodize=True, do_calibs=False, ceres=False)\n",
    "            #sys.stdout.flush()    \n",
    "            \n",
    "            _jpgfile = os.path.join(survey.output_dir, 'coadd', 'cus', brickname, \n",
    "                                   'legacysurvey-{}-image.jpg'.format(brickname))\n",
    "            if os.path.isfile(_jpgfile):\n",
    "                shutil.copy(_jpgfile, jpgfile)\n",
    "                shutil.rmtree(os.path.join(survey.output_dir, 'coadd'))\n",
    "            else:\n",
    "                print('File {} not found; check log!'.format(_jpgfile))"
   ]
  },
  {
   "cell_type": "code",
   "execution_count": 208,
   "metadata": {},
   "outputs": [],
   "source": [
    "#custom_coadds_one(sample[320], scale=2, clobber=True)"
   ]
  },
  {
   "cell_type": "code",
   "execution_count": 209,
   "metadata": {},
   "outputs": [],
   "source": [
    "def custom_coadds(sample, clobber=False, log=None):\n",
    "    for obj in sample:\n",
    "        custom_coadds_one(obj, clobber=clobber, log=log)"
   ]
  },
  {
   "cell_type": "code",
   "execution_count": 210,
   "metadata": {},
   "outputs": [
    {
     "name": "stdout",
     "output_type": "stream",
     "text": [
      "Generating the coadds.\n",
      "Logging to /global/cscratch1/sd/ioannis/dr8/gallery/make-coadds.log\n",
      "File /global/cscratch1/sd/ioannis/dr8/gallery/coadd/cus/custom-184900m13690/legacysurvey-custom-184900m13690-image.jpg not found; check log!\n",
      "File /global/cscratch1/sd/ioannis/dr8/gallery/coadd/cus/custom-173780m13530/legacysurvey-custom-173780m13530-image.jpg not found; check log!\n",
      "File /global/cscratch1/sd/ioannis/dr8/gallery/coadd/cus/custom-139630m12260/legacysurvey-custom-139630m12260-image.jpg not found; check log!\n",
      "File /global/cscratch1/sd/ioannis/dr8/gallery/coadd/cus/custom-210420m11610/legacysurvey-custom-210420m11610-image.jpg not found; check log!\n",
      "File /global/cscratch1/sd/ioannis/dr8/gallery/coadd/cus/custom-083080m11530/legacysurvey-custom-083080m11530-image.jpg not found; check log!\n",
      "File /global/cscratch1/sd/ioannis/dr8/gallery/coadd/cus/custom-210440m11160/legacysurvey-custom-210440m11160-image.jpg not found; check log!\n",
      "File /global/cscratch1/sd/ioannis/dr8/gallery/coadd/cus/custom-175210m10730/legacysurvey-custom-175210m10730-image.jpg not found; check log!\n",
      "File /global/cscratch1/sd/ioannis/dr8/gallery/coadd/cus/custom-137210m09640/legacysurvey-custom-137210m09640-image.jpg not found; check log!\n",
      "File /global/cscratch1/sd/ioannis/dr8/gallery/coadd/cus/custom-124360m07590/legacysurvey-custom-124360m07590-image.jpg not found; check log!\n",
      "File /global/cscratch1/sd/ioannis/dr8/gallery/coadd/cus/custom-243890m06120/legacysurvey-custom-243890m06120-image.jpg not found; check log!\n",
      "File /global/cscratch1/sd/ioannis/dr8/gallery/coadd/cus/custom-071470p02009/legacysurvey-custom-071470p02009-image.jpg not found; check log!\n",
      "File /global/cscratch1/sd/ioannis/dr8/gallery/coadd/cus/custom-071930p02290/legacysurvey-custom-071930p02290-image.jpg not found; check log!\n",
      "File /global/cscratch1/sd/ioannis/dr8/gallery/coadd/cus/custom-073580p02950/legacysurvey-custom-073580p02950-image.jpg not found; check log!\n",
      "File /global/cscratch1/sd/ioannis/dr8/gallery/coadd/cus/custom-074970p05440/legacysurvey-custom-074970p05440-image.jpg not found; check log!\n",
      "File /global/cscratch1/sd/ioannis/dr8/gallery/coadd/cus/custom-079150p06450/legacysurvey-custom-079150p06450-image.jpg not found; check log!\n",
      "File /global/cscratch1/sd/ioannis/dr8/gallery/coadd/cus/custom-063340p10480/legacysurvey-custom-063340p10480-image.jpg not found; check log!\n",
      "File /global/cscratch1/sd/ioannis/dr8/gallery/coadd/cus/custom-044490p13020/legacysurvey-custom-044490p13020-image.jpg not found; check log!\n",
      "File /global/cscratch1/sd/ioannis/dr8/gallery/coadd/cus/custom-044740p13580/legacysurvey-custom-044740p13580-image.jpg not found; check log!\n",
      "File /global/cscratch1/sd/ioannis/dr8/gallery/coadd/cus/custom-044250p15950/legacysurvey-custom-044250p15950-image.jpg not found; check log!\n",
      "File /global/cscratch1/sd/ioannis/dr8/gallery/coadd/cus/custom-058180p21410/legacysurvey-custom-058180p21410-image.jpg not found; check log!\n",
      "File /global/cscratch1/sd/ioannis/dr8/gallery/coadd/cus/custom-055410p23490/legacysurvey-custom-055410p23490-image.jpg not found; check log!\n",
      "File /global/cscratch1/sd/ioannis/dr8/gallery/coadd/cus/custom-052620p24790/legacysurvey-custom-052620p24790-image.jpg not found; check log!\n",
      "File /global/cscratch1/sd/ioannis/dr8/gallery/coadd/cus/custom-028830p33940/legacysurvey-custom-028830p33940-image.jpg not found; check log!\n",
      "File /global/cscratch1/sd/ioannis/dr8/gallery/coadd/cus/custom-045290p41400/legacysurvey-custom-045290p41400-image.jpg not found; check log!\n",
      "File /global/cscratch1/sd/ioannis/dr8/gallery/coadd/cus/custom-049650p41520/legacysurvey-custom-049650p41520-image.jpg not found; check log!\n",
      "File /global/cscratch1/sd/ioannis/dr8/gallery/coadd/cus/custom-040900p41840/legacysurvey-custom-040900p41840-image.jpg not found; check log!\n",
      "File /global/cscratch1/sd/ioannis/dr8/gallery/coadd/cus/custom-036460p41870/legacysurvey-custom-036460p41870-image.jpg not found; check log!\n",
      "File /global/cscratch1/sd/ioannis/dr8/gallery/coadd/cus/custom-290190p43960/legacysurvey-custom-290190p43960-image.jpg not found; check log!\n",
      "File /global/cscratch1/sd/ioannis/dr8/gallery/coadd/cus/custom-093160p48600/legacysurvey-custom-093160p48600-image.jpg not found; check log!\n",
      "File /global/cscratch1/sd/ioannis/dr8/gallery/coadd/cus/custom-077570p73700/legacysurvey-custom-077570p73700-image.jpg not found; check log!\n",
      "File /global/cscratch1/sd/ioannis/dr8/gallery/coadd/cus/custom-070230p73800/legacysurvey-custom-070230p73800-image.jpg not found; check log!\n",
      "File /global/cscratch1/sd/ioannis/dr8/gallery/coadd/cus/custom-057390p75190/legacysurvey-custom-057390p75190-image.jpg not found; check log!\n",
      "File /global/cscratch1/sd/ioannis/dr8/gallery/coadd/cus/custom-075050p80010/legacysurvey-custom-075050p80010-image.jpg not found; check log!\n",
      "Total time = 117.545 minutes.\n"
     ]
    }
   ],
   "source": [
    "coaddslogfile = os.path.join(gallerydir, 'make-coadds.log')\n",
    "print('Generating the coadds.')\n",
    "print('Logging to {}'.format(coaddslogfile))\n",
    "t0 = time.time()\n",
    "with open(coaddslogfile, 'w') as log:\n",
    "    #with redirect_stdout(log):\n",
    "    custom_coadds(sample, clobber=True, log=log)\n",
    "print('Total time = {:.3f} minutes.'.format((time.time() - t0) / 60))"
   ]
  },
  {
   "cell_type": "code",
   "execution_count": null,
   "metadata": {},
   "outputs": [],
   "source": [
    "stop"
   ]
  },
  {
   "cell_type": "markdown",
   "metadata": {},
   "source": [
    "### Add labels and a scale bar."
   ]
  },
  {
   "cell_type": "code",
   "execution_count": null,
   "metadata": {},
   "outputs": [],
   "source": [
    "barlen = np.round(60.0 / PIXSCALE).astype('int')\n",
    "fonttype = os.path.join(gallerydir, 'Georgia.ttf')"
   ]
  },
  {
   "cell_type": "code",
   "execution_count": null,
   "metadata": {},
   "outputs": [],
   "source": [
    "def _add_labels_one(args):\n",
    "    \"\"\"Wrapper function for the multiprocessing.\"\"\"\n",
    "    return add_labels_one(*args)"
   ]
  },
  {
   "cell_type": "code",
   "execution_count": null,
   "metadata": {},
   "outputs": [],
   "source": [
    "def add_labels_one(obj, verbose=False):\n",
    "    name = get_name(obj)\n",
    "    nicename = get_name(obj, nice=True)\n",
    "    \n",
    "    jpgfile = os.path.join(jpgdir, '{}.jpg'.format(name))\n",
    "    pngfile = os.path.join(pngdir, '{}.png'.format(name))\n",
    "    thumbfile = os.path.join(pngdir, 'thumb-{}.png'.format(name))\n",
    "        \n",
    "    im = Image.open(jpgfile)\n",
    "    sz = im.size\n",
    "    fntsize = np.round(sz[0]/28).astype('int')\n",
    "    width = np.round(sz[0]/175).astype('int')\n",
    "    font = ImageFont.truetype(fonttype, size=fntsize)\n",
    "    draw = ImageDraw.Draw(im)\n",
    "    # Label the object name--\n",
    "    draw.text((0+fntsize*2, 0+fntsize*2), nicename, font=font)\n",
    "    # Add a scale bar--\n",
    "    x0, x1, yy = sz[1]-fntsize*2-barlen, sz[1]-fntsize*2, sz[0]-fntsize*2\n",
    "    draw.line((x0, yy, x1, yy), fill='white', width=width)\n",
    "    im.save(pngfile)    \n",
    "        \n",
    "    # Generate a thumbnail\n",
    "    if True:\n",
    "        cmd = '/usr/bin/convert -thumbnail 300x300 {} {}'.format(pngfile, thumbfile)\n",
    "        os.system(cmd)"
   ]
  },
  {
   "cell_type": "code",
   "execution_count": null,
   "metadata": {},
   "outputs": [],
   "source": [
    "def add_labels(sample):\n",
    "    labelargs = list()\n",
    "    for obj in sample:\n",
    "        labelargs.append((obj, False))\n",
    "\n",
    "    #if False:\n",
    "    if nproc > 1:\n",
    "        p = multiprocessing.Pool(nproc)\n",
    "        res = p.map(_add_labels_one, labelargs)\n",
    "        p.close()\n",
    "    else:\n",
    "        for args in labelargs:\n",
    "            res = _add_labels_one(args)"
   ]
  },
  {
   "cell_type": "code",
   "execution_count": null,
   "metadata": {},
   "outputs": [],
   "source": [
    "%time add_labels(sample)"
   ]
  },
  {
   "cell_type": "markdown",
   "metadata": {},
   "source": [
    "### Finally, assemble the webpage of good and rejected gallery images.\n",
    "\n",
    "To test the webpage before release, do\n",
    "\n",
    "    rsync -auvP /global/cscratch1/sd/ioannis/dr7/png /global/project/projectdirs/cosmo/www/temp/ioannis/dr7/gallery/\n",
    "    rsync -auvP /global/cscratch1/sd/ioannis/dr7/*.html /global/project/projectdirs/cosmo/www/temp/ioannis/dr7/gallery/\n",
    "\n"
   ]
  },
  {
   "cell_type": "code",
   "execution_count": null,
   "metadata": {},
   "outputs": [],
   "source": [
    "reject = ['arp_246', 'ic_0298', 'ugc_09532', 'ugca_173', 'ugca_174']\n",
    "toss = np.zeros(len(sample), dtype=bool)\n",
    "name = get_name(sample)\n",
    "for ii, nn in enumerate(name):\n",
    "    for rej in np.atleast_1d(reject):\n",
    "        toss[ii] = rej in nn.lower()\n",
    "        if toss[ii]:\n",
    "            break\n",
    "print('Rejecting {} objects.'.format(np.sum(toss)))\n",
    "pngkeep = sample[~toss]\n",
    "if np.sum(toss) > 0:\n",
    "    pngrej = sample[toss]\n",
    "else:\n",
    "    pngrej = []"
   ]
  },
  {
   "cell_type": "code",
   "execution_count": null,
   "metadata": {},
   "outputs": [],
   "source": [
    "htmlfile = os.path.join(gallerydir, 'index.html')\n",
    "htmlfile_reject = os.path.join(gallerydir, 'index-reject.html')\n",
    "baseurl = 'http://legacysurvey.org/viewer'"
   ]
  },
  {
   "cell_type": "code",
   "execution_count": null,
   "metadata": {},
   "outputs": [],
   "source": [
    "def html_rows(pngkeep, nperrow=4):\n",
    "    nrow = np.ceil(len(pngkeep) / nperrow).astype('int')\n",
    "    pngsplit = list()\n",
    "    for ii in range(nrow):\n",
    "        i1 = nperrow*ii\n",
    "        i2 = nperrow*(ii+1)\n",
    "        if i2 > len(pngkeep):\n",
    "            i2 = len(pngkeep)\n",
    "        pngsplit.append(pngkeep[i1:i2])\n",
    "    #pngsplit = np.array_split(pngkeep, nrow)\n",
    "    print('Splitting the sample into {} rows with {} mosaics per row.'.format(nrow, nperrow))\n",
    "\n",
    "    html.write('<table class=\"ls-gallery\">\\n')\n",
    "    html.write('<tbody>\\n')\n",
    "    for pngrow in pngsplit:\n",
    "        html.write('<tr>\\n')\n",
    "        for obj in pngrow:\n",
    "            name = get_name(obj)\n",
    "            nicename = get_name(obj, nice=True)\n",
    "            pngfile = os.path.join('png', '{}.png'.format(name))\n",
    "            thumbfile = os.path.join('png', 'thumb-{}.png'.format(name))\n",
    "            img = 'src=\"{}\" alt=\"{}\"'.format(thumbfile, nicename)\n",
    "            #img = 'class=\"ls-gallery\" src=\"{}\" alt=\"{}\"'.format(thumbfile, nicename)\n",
    "            html.write('<td><a href=\"{}\"><img {}></a></td>\\n'.format(pngfile, img))\n",
    "        html.write('</tr>\\n')\n",
    "        html.write('<tr>\\n')\n",
    "        for obj in pngrow:\n",
    "            nicename = get_name(obj, nice=True)\n",
    "            href = '{}/?layer=decals-{}&ra={:.8f}&dec={:.8f}&zoom=12'.format(baseurl, dr, obj['ra'], obj['dec'])\n",
    "            html.write('<td><a href=\"{}\" target=\"_blank\">{}</a></td>\\n'.format(href, nicename))\n",
    "        html.write('</tr>\\n')\n",
    "    html.write('</tbody>\\n')            \n",
    "    html.write('</table>\\n')"
   ]
  },
  {
   "cell_type": "code",
   "execution_count": null,
   "metadata": {},
   "outputs": [],
   "source": [
    "with open(htmlfile, 'w') as html:\n",
    "    html.write('<html><head>\\n')\n",
    "    html.write('<style type=\"text/css\">\\n')\n",
    "    html.write('table.ls-gallery {width: 90%;}\\n')\n",
    "    #html.write('img.ls-gallery {display: block;}\\n')\n",
    "    #html.write('td.ls-gallery {width: 100%; height: auto}\\n')\n",
    "    #html.write('td.ls-gallery {width: 100%; word-wrap: break-word;}\\n')\n",
    "    html.write('p.ls-gallery {width: 80%;}\\n')\n",
    "    html.write('</style>\\n')\n",
    "    html.write('</head><body>\\n')\n",
    "    html.write('<h1>DR7 Image Gallery</h1>\\n')\n",
    "    \n",
    "    #1966ApJS...14....1A\n",
    "    \n",
    "    html.write(\"\"\"<p class=\"ls-gallery\">This data release's gallery highlights the wide range\n",
    "    of galaxies in Halton Arp's <i>Atlas of Peculiar Galaxies</i>.</p>\\n <p>Each thumbnail links \n",
    "    to a larger image while the object name below each thumbnail links to the \n",
    "    <a href=\"http://legacysurvey.org/viewer\">Sky Viewer</a>.  For reference, the horizontal white bar in \n",
    "    the lower-right corner of each image represents one arcminute.</p>\\n\"\"\")\n",
    "    html.write(\"\"\"<p>For more eye candy, please visit the gallery of objects highlighted in the \n",
    "    <a href=\"http://portal.nersc.gov/project/cosmo/data/legacysurvey/dr6/gallery/\">DR6 Gallery.</a></p>\\n\"\"\")\n",
    "    \n",
    "    html_rows(pngkeep)\n",
    "    html.write('<br />\\n')\n",
    "\n",
    "    html.write('</body></html>\\n')"
   ]
  },
  {
   "cell_type": "code",
   "execution_count": null,
   "metadata": {},
   "outputs": [],
   "source": [
    "if len(pngrej) > 0:\n",
    "    with open(htmlfile_reject, 'w') as html:\n",
    "        html.write('<html><head>\\n')\n",
    "        html.write('<style type=\"text/css\">\\n')\n",
    "        html.write('img.ls-gallery {display: block;}\\n')\n",
    "        html.write('td.ls-gallery {width: 20%; word-wrap: break-word;}\\n')\n",
    "        html.write('</style>\\n')\n",
    "        html.write('</head><body>\\n')\n",
    "        html.write('<h1>DR6 Image Gallery - Rejected</h1>\\n')\n",
    "        html_rows(pngrej)\n",
    "        html.write('</body></html>\\n')"
   ]
  },
  {
   "cell_type": "code",
   "execution_count": null,
   "metadata": {},
   "outputs": [],
   "source": []
  }
 ],
 "metadata": {
  "anaconda-cloud": {},
  "kernelspec": {
   "display_name": "legacypipe master",
   "language": "python",
   "name": "legacypipe-master"
  },
  "language_info": {
   "codemirror_mode": {
    "name": "ipython",
    "version": 3
   },
   "file_extension": ".py",
   "mimetype": "text/x-python",
   "name": "python",
   "nbconvert_exporter": "python",
   "pygments_lexer": "ipython3",
   "version": "3.6.6"
  }
 },
 "nbformat": 4,
 "nbformat_minor": 2
}
