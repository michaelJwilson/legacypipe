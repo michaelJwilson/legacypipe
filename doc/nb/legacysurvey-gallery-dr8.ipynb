{
 "cells": [
  {
   "cell_type": "markdown",
   "metadata": {},
   "source": [
    "# Gallery for DR8\n",
    "\n",
    "The purpose of this notebook is to build a nice gallery of object images for DR8.  The theme is intermediate-redshift galaxy clusters.\n",
    "\n",
    "For future reference: The notebook must be run from https://jupyter.nersc.gov with the following (approximate) activation script:\n",
    "\n",
    "```bash\n",
    "#!/bin/bash                                                                                                           \n",
    "version=$1                                                                                                            \n",
    "connection_file=$2                                                                                                    \n",
    "\n",
    "desiconda_version=20180512-1.2.5-img\n",
    "module use /global/common/software/desi/$NERSC_HOST/desiconda/$desiconda_version/modulefiles\n",
    "module load desiconda\n",
    "\n",
    "export LEGACYPIPE_DIR=$HOME/repos/git/legacypipe                                                                       \n",
    "\n",
    "export PATH=$LEGACYPIPE_DIR/bin:${PATH}                                                                               \n",
    "export PYTHONPATH=$LEGACYPIPE_DIR/py:${PYTHONPATH}                                                                    \n",
    "\n",
    "export DUST_DIR=/global/project/projectdirs/desi/software/${NERSC_HOST}/dust/v0_0\n",
    "\n",
    "export UNWISE_COADDS_DIR=/global/projecta/projectdirs/cosmo/work/wise/outputs/merge/neo4/fulldepth:/global/project/projectdirs/cosmo/data/unwise/allwise/unwise-coadds/fulldepth\n",
    "export UNWISE_COADDS_TIMERESOLVED_DIR=/global/projecta/projectdirs/cosmo/work/wise/outputs/merge/neo4\n",
    "\n",
    "export GAIA_CAT_DIR=/global/project/projectdirs/cosmo/work/gaia/chunks-gaia-dr2-astrom/\n",
    "export GAIA_CAT_VER=2\n",
    "\n",
    "export TYCHO2_KD_DIR=/global/project/projectdirs/cosmo/staging/tycho2\n",
    "\n",
    "export PS1CAT_DIR=/global/project/projectdirs/cosmo/work/ps1/cats/chunks-qz-star-v3 # calibration only\n",
    "\n",
    "exec python -m ipykernel -f $connection_file\n",
    "```"
   ]
  },
  {
   "cell_type": "markdown",
   "metadata": {},
   "source": [
    "### Imports and paths"
   ]
  },
  {
   "cell_type": "code",
   "execution_count": 1,
   "metadata": {},
   "outputs": [],
   "source": [
    "import os, sys\n",
    "import shutil, time, warnings\n",
    "from contextlib import redirect_stdout\n",
    "import numpy as np\n",
    "import numpy.ma as ma\n",
    "import matplotlib.pyplot as plt"
   ]
  },
  {
   "cell_type": "code",
   "execution_count": 2,
   "metadata": {},
   "outputs": [],
   "source": [
    "import fitsio\n",
    "from astropy.io import ascii\n",
    "import astropy.units as u\n",
    "from astropy.coordinates import SkyCoord, FK5\n",
    "from astropy.table import Table, vstack, Column\n",
    "from astropy.cosmology import FlatLambdaCDM\n",
    "from PIL import Image, ImageDraw, ImageFont"
   ]
  },
  {
   "cell_type": "code",
   "execution_count": 3,
   "metadata": {},
   "outputs": [],
   "source": [
    "from legacypipe.survey import LegacySurveyData\n",
    "from legacypipe.runbrick import run_brick\n",
    "from astrometry.util.util import Tan\n",
    "from astrometry.util.fits import merge_tables\n",
    "from astrometry.libkd.spherematch import match_radec"
   ]
  },
  {
   "cell_type": "code",
   "execution_count": 4,
   "metadata": {},
   "outputs": [],
   "source": [
    "import multiprocessing\n",
    "nproc = multiprocessing.cpu_count() // 2"
   ]
  },
  {
   "cell_type": "code",
   "execution_count": 5,
   "metadata": {},
   "outputs": [],
   "source": [
    "cosmo = FlatLambdaCDM(H0=70, Om0=0.3) "
   ]
  },
  {
   "cell_type": "code",
   "execution_count": 6,
   "metadata": {},
   "outputs": [],
   "source": [
    "%matplotlib inline"
   ]
  },
  {
   "cell_type": "markdown",
   "metadata": {},
   "source": [
    "### Preliminaries\n",
    "\n",
    "Define the data release and the various output directories."
   ]
  },
  {
   "cell_type": "code",
   "execution_count": 7,
   "metadata": {},
   "outputs": [],
   "source": [
    "PIXSCALE = 0.262\n",
    "#PIXSCALE = 2.62"
   ]
  },
  {
   "cell_type": "code",
   "execution_count": 8,
   "metadata": {},
   "outputs": [],
   "source": [
    "dr = 'dr8'\n",
    "drdir = '/global/project/projectdirs/cosmo/work/legacysurvey/dr8'\n",
    "gallerydir = os.path.join( os.getenv('SCRATCH'), dr, 'gallery')\n",
    "samplefile = os.path.join(gallerydir, 'sample-{}.fits'.format(dr))"
   ]
  },
  {
   "cell_type": "code",
   "execution_count": 9,
   "metadata": {},
   "outputs": [],
   "source": [
    "jpgdir = os.path.join(gallerydir, 'jpg')\n",
    "if not os.path.isdir(jpgdir):\n",
    "    os.mkdir(jpgdir)"
   ]
  },
  {
   "cell_type": "code",
   "execution_count": 10,
   "metadata": {},
   "outputs": [],
   "source": [
    "pngdir = os.path.join(gallerydir, 'png')\n",
    "if not os.path.isdir(pngdir):\n",
    "    os.mkdir(pngdir)"
   ]
  },
  {
   "cell_type": "markdown",
   "metadata": {},
   "source": [
    "### Build the sample.\n",
    "\n",
    "Use the sample of clusters from http://risa.stanford.edu/redmapper/redmapper_dr8_public_v6.3_catalog.fits.gz\n",
    "\n",
    "Cut to lambda>100, corresponding to M(halo) = (0.1-3) x 10^15 Msun over the redshift range 0.1-0.5."
   ]
  },
  {
   "cell_type": "code",
   "execution_count": 11,
   "metadata": {},
   "outputs": [],
   "source": [
    "def read_redmapper(radius_kpc=200, seed=1, npilot=100, \n",
    "                   richmin=20, richmax=300, zmin=0.1, \n",
    "                   zmax=0.5):\n",
    "    rmfile = os.path.join(gallerydir, 'redmapper_dr8_public_v6.3_catalog.fits.gz')\n",
    "    cat = Table(fitsio.read(rmfile, lower=True))\n",
    "    cut = ((cat['lambda'] > richmin) * (cat['z_lambda'] > zmin) * \n",
    "           (cat['z_lambda'] < zmax) * (cat['p_cen'][:, 0] > 0.9))\n",
    "    cat = cat[cut]\n",
    "    \n",
    "    # Choose 100 clusters drawn uniformly in richness\n",
    "    #redshift = cat['z_lambda']\n",
    "    richness = cat['lambda']\n",
    "    nbin = 20\n",
    "    _xbin = np.linspace(richmin, richmax, nbin)\n",
    "    idx  = np.digitize(richness, _xbin)\n",
    "\n",
    "    prob = np.zeros_like(richness)\n",
    "    for kk in range(nbin):\n",
    "        ww = idx == kk\n",
    "        if np.sum(ww) > 1:\n",
    "            prob[ww] = 1 / np.sum(ww)\n",
    "    prob /= np.sum(prob)\n",
    "\n",
    "    rand = np.random.RandomState(seed=seed)\n",
    "    these = rand.choice(len(cat), npilot, p=prob, replace=False)\n",
    "    srt = np.argsort(cat['lambda'][these])[::-1]\n",
    "    cat = cat[these[srt]]\n",
    "    \n",
    "    # Get the diameter in pixels corresponding to 500 kpc (comoving).\n",
    "    arcsec_per_kpc = cosmo.arcsec_per_kpc_proper(cat['z_lambda']).value\n",
    "    radius_arcsec = radius_kpc * arcsec_per_kpc # [float arcsec]\n",
    "    diam = np.rint(2 * radius_arcsec / PIXSCALE).astype(int) # [integer/rounded pixels]\n",
    "    \n",
    "    cat.add_column(Column(name='diam', data=diam, dtype='i4')) # [pixels]\n",
    "    cat.add_column(Column(name='run', length=len(cat), dtype='S14'))\n",
    "    \n",
    "    return cat"
   ]
  },
  {
   "cell_type": "code",
   "execution_count": 12,
   "metadata": {},
   "outputs": [
    {
     "data": {
      "text/html": [
       "&lt;Table length=100&gt;\n",
       "<table id=\"table46913352485688\" class=\"table-striped table-bordered table-condensed\">\n",
       "<thead><tr><th>id</th><th>name</th><th>ra</th><th>dec</th><th>z_lambda</th><th>z_lambda_err</th><th>lambda</th><th>lambda_err</th><th>s</th><th>z_spec</th><th>objid</th><th>imag</th><th>imag_err</th><th>model_mag_u</th><th>model_magerr_u</th><th>model_mag_g</th><th>model_magerr_g</th><th>model_mag_r</th><th>model_magerr_r</th><th>model_mag_i</th><th>model_magerr_i</th><th>model_mag_z</th><th>model_magerr_z</th><th>ilum</th><th>p_cen [5]</th><th>ra_cen [5]</th><th>dec_cen [5]</th><th>id_cen [5]</th><th>pzbins [21]</th><th>pz [21]</th><th>diam</th><th>run</th></tr></thead>\n",
       "<thead><tr><th>int32</th><th>bytes20</th><th>float64</th><th>float64</th><th>float32</th><th>float32</th><th>float32</th><th>float32</th><th>float32</th><th>float32</th><th>int64</th><th>float32</th><th>float32</th><th>float32</th><th>float32</th><th>float32</th><th>float32</th><th>float32</th><th>float32</th><th>float32</th><th>float32</th><th>float32</th><th>float32</th><th>float32</th><th>float32</th><th>float32</th><th>float32</th><th>int64</th><th>float32</th><th>float32</th><th>int32</th><th>bytes14</th></tr></thead>\n",
       "<tr><td>6</td><td>RMJ133520.1+410004.1</td><td>203.83372267931975</td><td>41.0011464409052</td><td>0.23174694</td><td>0.0060674027</td><td>189.18115</td><td>5.613359</td><td>1.0100377</td><td>0.2283087</td><td>1237662306722447498</td><td>0.0</td><td>0.0</td><td>19.995804</td><td>0.107984856</td><td>17.901672</td><td>0.009154892</td><td>16.366825</td><td>0.0045009954</td><td>15.850655</td><td>0.0043274383</td><td>15.507919</td><td>0.011259914</td><td>128.97887</td><td>0.98141843 .. 3.6546284e-05</td><td>203.83372 .. 203.83876</td><td>41.00115 .. 40.991226</td><td>25032419 .. 25032423</td><td>0.1959384 .. 0.26755545</td><td>8.0235895e-07 .. 5.993135e-06</td><td>413</td><td></td></tr>\n",
       "<tr><td>27</td><td>RMJ094951.8+170710.6</td><td>147.4658410759847</td><td>17.119597497572737</td><td>0.38324508</td><td>0.013010344</td><td>185.38266</td><td>7.1144266</td><td>1.0212637</td><td>0.38278562</td><td>1237667733956395341</td><td>0.0</td><td>0.0</td><td>22.216585</td><td>0.9832094</td><td>19.699078</td><td>0.056940112</td><td>17.878647</td><td>0.015967553</td><td>17.183601</td><td>0.012328301</td><td>16.91544</td><td>0.031415425</td><td>126.326836</td><td>0.99873763 .. 1.4405185e-06</td><td>147.46584 .. 147.46118</td><td>17.119598 .. 17.098753</td><td>39424958 .. 40021826</td><td>0.31329086 .. 0.45319927</td><td>7.051299e-05 .. 4.096737e-06</td><td>292</td><td></td></tr>\n",
       "<tr><td>215</td><td>RMJ111514.8+531954.6</td><td>168.8118656245974</td><td>53.33182359555929</td><td>0.4712837</td><td>0.010392168</td><td>184.81822</td><td>14.145315</td><td>1.5929171</td><td>0.4664212</td><td>1237657589782347891</td><td>0.0</td><td>0.0</td><td>23.000782</td><td>1.4008425</td><td>20.510311</td><td>0.060054924</td><td>18.599733</td><td>0.018430095</td><td>17.705423</td><td>0.013152091</td><td>17.280027</td><td>0.031151984</td><td>106.08976</td><td>0.99795884 .. 7.910885e-06</td><td>168.81186 .. 168.81667</td><td>53.331825 .. 53.320026</td><td>10643753 .. 10643870</td><td>0.41006044 .. 0.5325069</td><td>6.312513e-07 .. 5.772295e-06</td><td>258</td><td></td></tr>\n",
       "<tr><td>250</td><td>RMJ222842.7+083924.4</td><td>337.17778435319144</td><td>8.656782036448227</td><td>0.41733646</td><td>0.01182232</td><td>181.12653</td><td>10.968041</td><td>1.4284549</td><td>-1.0</td><td>1237679009315750338</td><td>0.0</td><td>0.0</td><td>20.96521</td><td>0.46009368</td><td>19.876343</td><td>0.0635086</td><td>17.8953</td><td>0.017565822</td><td>17.198114</td><td>0.0143440245</td><td>16.790714</td><td>0.03765561</td><td>115.9224</td><td>0.9999326 .. 4.5067432e-07</td><td>337.1778 .. 337.1797</td><td>8.656782 .. 8.6550865</td><td>52434029 .. 52434030</td><td>0.3519025 .. 0.48277047</td><td>2.1631968e-05 .. 3.0974295e-06</td><td>277</td><td></td></tr>\n",
       "<tr><td>5</td><td>RMJ090912.2+105824.9</td><td>137.30074463519105</td><td>10.97359493545774</td><td>0.17046206</td><td>0.0036083707</td><td>174.70418</td><td>4.9478636</td><td>1.0145435</td><td>-1.0</td><td>1237671260126576920</td><td>0.0</td><td>0.0</td><td>26.343122</td><td>3.2173216</td><td>18.158167</td><td>0.023159701</td><td>17.184233</td><td>0.013675305</td><td>16.532034</td><td>0.010748517</td><td>16.288134</td><td>0.028455446</td><td>112.05844</td><td>0.94703996 .. 0.00021698933</td><td>137.30075 .. 137.32939</td><td>10.973595 .. 10.985692</td><td>45540350 .. 45540320</td><td>0.15001194 .. 0.19091219</td><td>1.0995842e-05 .. 1.323996e-05</td><td>526</td><td></td></tr>\n",
       "<tr><td>129</td><td>RMJ015949.3-084958.9</td><td>29.95555555246912</td><td>-8.833034764060354</td><td>0.40813944</td><td>0.012372703</td><td>167.77843</td><td>8.655152</td><td>1.1930909</td><td>0.4052182</td><td>1237670956790644941</td><td>0.0</td><td>0.0</td><td>19.939491</td><td>0.1360688</td><td>19.229939</td><td>0.025702704</td><td>17.815756</td><td>0.012346541</td><td>17.180397</td><td>0.01042276</td><td>16.807058</td><td>0.028954698</td><td>102.93886</td><td>0.9989383 .. 3.9697662e-07</td><td>29.955555 .. 29.944187</td><td>-8.8330345 .. -8.841026</td><td>44913646 .. 44913714</td><td>0.34273946 .. 0.47353938</td><td>0.00018539147 .. 5.0218814e-06</td><td>281</td><td></td></tr>\n",
       "<tr><td>424</td><td>RMJ110608.5+333339.7</td><td>166.5353534172606</td><td>33.56102371348592</td><td>0.49729663</td><td>0.011500471</td><td>167.24449</td><td>15.736107</td><td>1.7964814</td><td>0.48811108</td><td>1237665016313021044</td><td>0.0</td><td>0.0</td><td>26.984713</td><td>0.5852761</td><td>20.972475</td><td>0.08377106</td><td>19.253912</td><td>0.028100349</td><td>18.33369</td><td>0.019191852</td><td>17.758265</td><td>0.045851987</td><td>99.735954</td><td>0.99532783 .. 0.00020922536</td><td>166.53535 .. 166.50519</td><td>33.561024 .. 33.56052</td><td>31097894 .. 31097854</td><td>0.42666465 .. 0.5679286</td><td>1.8874722e-08 .. 4.8688376e-06</td><td>251</td><td></td></tr>\n",
       "<tr><td>320</td><td>RMJ221145.9-034944.5</td><td>332.94131100281584</td><td>-3.8290286994715883</td><td>0.42646122</td><td>0.011818006</td><td>159.4187</td><td>10.300939</td><td>1.481744</td><td>-1.0</td><td>1237680066416148649</td><td>0.0</td><td>0.0</td><td>21.569984</td><td>1.345606</td><td>18.963459</td><td>0.040263597</td><td>17.144075</td><td>0.0129849715</td><td>16.415863</td><td>0.009619586</td><td>16.146801</td><td>0.029088078</td><td>104.40142</td><td>0.9960301 .. 2.8823106e-05</td><td>332.9413 .. 332.93222</td><td>-3.8290286 .. -3.8234258</td><td>54896963 .. 54897064</td><td>0.3610203 .. 0.49190208</td><td>2.1219097e-05 .. 4.711655e-06</td><td>273</td><td></td></tr>\n",
       "<tr><td>304</td><td>RMJ012542.3-063442.3</td><td>21.426365942207184</td><td>-6.57842375184543</td><td>0.43585908</td><td>0.011315561</td><td>159.34242</td><td>10.5524435</td><td>1.4463356</td><td>-1.0</td><td>1237680243070337570</td><td>0.0</td><td>0.0</td><td>21.291021</td><td>0.6545481</td><td>20.151243</td><td>0.07679227</td><td>18.36798</td><td>0.026074307</td><td>17.543617</td><td>0.020655308</td><td>17.135511</td><td>0.047235016</td><td>91.0284</td><td>0.9108611 .. 7.153804e-06</td><td>21.426367 .. 21.42733</td><td>-6.578424 .. -6.617549</td><td>55986054 .. 55986052</td><td>0.3731506 .. 0.49856758</td><td>2.9843713e-05 .. 4.797557e-06</td><td>270</td><td></td></tr>\n",
       "<tr><td>56</td><td>RMJ121218.5+273255.1</td><td>183.0770101051668</td><td>27.548647731379972</td><td>0.35390115</td><td>0.013516471</td><td>158.24406</td><td>6.0347805</td><td>1.0077114</td><td>0.35064358</td><td>1237667323256242392</td><td>0.0</td><td>0.0</td><td>22.75172</td><td>1.5004921</td><td>19.160826</td><td>0.02725295</td><td>17.39093</td><td>0.010574535</td><td>16.81586</td><td>0.009484532</td><td>16.462738</td><td>0.02650024</td><td>104.59609</td><td>0.9128537 .. 2.2766733e-05</td><td>183.07701 .. 183.07831</td><td>27.548647 .. 27.540956</td><td>38037007 .. 38037008</td><td>0.27750033 .. 0.43030196</td><td>1.5178048e-06 .. 2.9256653e-06</td><td>307</td><td></td></tr>\n",
       "<tr><td>...</td><td>...</td><td>...</td><td>...</td><td>...</td><td>...</td><td>...</td><td>...</td><td>...</td><td>...</td><td>...</td><td>...</td><td>...</td><td>...</td><td>...</td><td>...</td><td>...</td><td>...</td><td>...</td><td>...</td><td>...</td><td>...</td><td>...</td><td>...</td><td>...</td><td>...</td><td>...</td><td>...</td><td>...</td><td>...</td><td>...</td><td>...</td></tr>\n",
       "<tr><td>18748</td><td>RMJ124409.3+013923.7</td><td>191.0386298837626</td><td>1.6565856226494076</td><td>0.3738972</td><td>0.015858632</td><td>30.804007</td><td>3.1394737</td><td>0.99953395</td><td>0.40021887</td><td>1237671266571125076</td><td>0.0</td><td>0.0</td><td>21.856358</td><td>0.3586939</td><td>19.90457</td><td>0.032498345</td><td>18.15253</td><td>0.011487363</td><td>17.529217</td><td>0.010715525</td><td>17.12933</td><td>0.022275878</td><td>22.39619</td><td>0.95947415 .. 3.0555446e-05</td><td>191.03864 .. 191.04887</td><td>1.6565856 .. 1.6238658</td><td>45852060 .. 45852020</td><td>0.30031574 .. 0.44747865</td><td>0.0030597614 .. 3.0352016e-06</td><td>296</td><td></td></tr>\n",
       "<tr><td>17773</td><td>RMJ093400.1+081821.8</td><td>143.5003309517878</td><td>8.30605173531079</td><td>0.36087087</td><td>0.016460953</td><td>30.331102</td><td>3.149896</td><td>1.055851</td><td>0.3782487</td><td>1237660413189292540</td><td>0.0</td><td>0.0</td><td>25.120325</td><td>3.6751363</td><td>19.728518</td><td>0.046615887</td><td>17.893476</td><td>0.016520144</td><td>17.314638</td><td>0.016533611</td><td>16.928953</td><td>0.039065987</td><td>22.71393</td><td>0.9999755 .. 2.5268622e-07</td><td>143.50034 .. 143.50754</td><td>8.306052 .. 8.290205</td><td>16263775 .. 16263781</td><td>0.27024 .. 0.45150173</td><td>2.0469513e-06 .. 2.5075133e-06</td><td>303</td><td></td></tr>\n",
       "<tr><td>28428</td><td>RMJ001256.8+353148.1</td><td>3.2368655144707645</td><td>35.53001840273215</td><td>0.36445466</td><td>0.017978884</td><td>28.531015</td><td>3.4049735</td><td>1.0642918</td><td>-1.0</td><td>1237680509338256088</td><td>0.0</td><td>0.0</td><td>24.701145</td><td>2.6032798</td><td>20.72882</td><td>0.06645656</td><td>18.880173</td><td>0.01736997</td><td>18.222399</td><td>0.014765025</td><td>17.884272</td><td>0.036612608</td><td>18.728333</td><td>0.992062 .. 5.0772986e-05</td><td>3.2368655 .. 3.2405577</td><td>35.530018 .. 35.518997</td><td>58247281 .. 58247283</td><td>0.27620688 .. 0.4527024</td><td>0.0002079113 .. 2.3311693e-06</td><td>301</td><td></td></tr>\n",
       "<tr><td>28698</td><td>RMJ090909.2+365124.2</td><td>137.28816907639862</td><td>36.8567195601737</td><td>0.33852074</td><td>0.017364236</td><td>25.38849</td><td>2.8962326</td><td>0.99809426</td><td>0.36699128</td><td>1237660344470405267</td><td>0.0</td><td>0.0</td><td>21.297794</td><td>0.25484422</td><td>20.006199</td><td>0.03703689</td><td>18.299126</td><td>0.014978824</td><td>17.693615</td><td>0.014575235</td><td>17.308376</td><td>0.033216327</td><td>17.299273</td><td>0.91638786 .. 2.83402e-07</td><td>137.28816 .. 137.31512</td><td>36.85672 .. 36.80961</td><td>16169608 .. 16169682</td><td>0.22554575 .. 0.4514957</td><td>1.561465e-14 .. 2.7524254e-06</td><td>316</td><td></td></tr>\n",
       "<tr><td>22830</td><td>RMJ231826.3+070312.7</td><td>349.6097237620826</td><td>7.053536912535675</td><td>0.22779235</td><td>0.008614218</td><td>23.985033</td><td>2.963494</td><td>1.0208337</td><td>-1.0</td><td>1237669680646521071</td><td>0.0</td><td>0.0</td><td>20.497984</td><td>0.33243477</td><td>18.510662</td><td>0.020684129</td><td>17.091288</td><td>0.009219566</td><td>16.58761</td><td>0.00842555</td><td>16.261047</td><td>0.02237986</td><td>15.894149</td><td>0.9548585 .. 4.026261e-06</td><td>349.6097 .. 349.57306</td><td>7.053537 .. 7.027467</td><td>44068566 .. 44068496</td><td>0.16922867 .. 0.28635606</td><td>2.617821e-14 .. 5.558568e-06</td><td>419</td><td></td></tr>\n",
       "<tr><td>33706</td><td>RMJ012251.5-061659.5</td><td>20.714637099409146</td><td>-6.283203879095598</td><td>0.3368217</td><td>0.017923411</td><td>22.96295</td><td>2.912549</td><td>0.9968275</td><td>-1.0</td><td>1237680243606880396</td><td>0.0</td><td>0.0</td><td>24.492458</td><td>3.7583663</td><td>19.908236</td><td>0.03331636</td><td>18.27982</td><td>0.013539486</td><td>17.677557</td><td>0.012300581</td><td>17.310999</td><td>0.030958053</td><td>16.786785</td><td>0.99892 .. 0.00011281904</td><td>20.714638 .. 20.701805</td><td>-6.283204 .. -6.2643876</td><td>56039440 .. 56039555</td><td>0.23194489 .. 0.4416985</td><td>2.0127823e-12 .. 2.6232542e-06</td><td>317</td><td></td></tr>\n",
       "<tr><td>31226</td><td>RMJ150357.4+362756.2</td><td>225.98937476026623</td><td>36.46560191220923</td><td>0.33675978</td><td>0.016746402</td><td>22.38326</td><td>2.6147683</td><td>0.99140257</td><td>0.3698342</td><td>1237661850409632032</td><td>0.0</td><td>0.0</td><td>21.847275</td><td>0.5094154</td><td>20.00291</td><td>0.041825827</td><td>18.350693</td><td>0.015658768</td><td>17.740704</td><td>0.013723002</td><td>17.361658</td><td>0.032930654</td><td>17.886013</td><td>0.92852014 .. 1.6650607e-05</td><td>225.98938 .. 225.99646</td><td>36.465603 .. 36.463013</td><td>20347202 .. 20347263</td><td>0.23341492 .. 0.44010466</td><td>2.1594304e-12 .. 2.525342e-06</td><td>317</td><td></td></tr>\n",
       "<tr><td>24247</td><td>RMJ004529.0+081326.5</td><td>11.370957000908334</td><td>8.22404149685408</td><td>0.27472112</td><td>0.013039673</td><td>22.047651</td><td>2.4934173</td><td>0.99291915</td><td>0.25707155</td><td>1237669703196344506</td><td>0.0</td><td>0.0</td><td>20.373968</td><td>0.22340561</td><td>18.683352</td><td>0.020497505</td><td>17.267282</td><td>0.009308301</td><td>16.751406</td><td>0.009514927</td><td>16.42119</td><td>0.023142861</td><td>16.152706</td><td>0.99796563 .. 9.754984e-09</td><td>11.370957 .. 11.377379</td><td>8.224042 .. 8.201259</td><td>44362247 .. 44362302</td><td>0.18487516 .. 0.36456707</td><td>2.0349958e-14 .. 3.56539e-06</td><td>365</td><td></td></tr>\n",
       "<tr><td>20509</td><td>RMJ083819.5+181435.8</td><td>129.58125253296288</td><td>18.243268895859504</td><td>0.21259566</td><td>0.0075755394</td><td>21.437452</td><td>2.2488546</td><td>1.01902</td><td>0.21710326</td><td>1237667211580670375</td><td>0.0</td><td>0.0</td><td>21.509335</td><td>0.31219995</td><td>19.174282</td><td>0.017890016</td><td>17.793772</td><td>0.009525196</td><td>17.276419</td><td>0.00915339</td><td>16.915186</td><td>0.02478179</td><td>13.196612</td><td>0.9201768 .. 4.4588403e-05</td><td>129.58125 .. 129.57933</td><td>18.243269 .. 18.298157</td><td>36955171 .. 36955175</td><td>0.1604335 .. 0.2647578</td><td>7.3292494e-14 .. 6.63762e-06</td><td>441</td><td></td></tr>\n",
       "<tr><td>46629</td><td>RMJ005812.4+095401.4</td><td>14.551835436325405</td><td>9.90037712560381</td><td>0.32788563</td><td>0.018467547</td><td>20.949293</td><td>2.7676332</td><td>0.99040085</td><td>0.29340652</td><td>1237678906788807079</td><td>0.0</td><td>0.0</td><td>22.79236</td><td>1.3417354</td><td>20.354603</td><td>0.048652895</td><td>18.754978</td><td>0.020767009</td><td>18.125614</td><td>0.016606288</td><td>17.79444</td><td>0.046863288</td><td>14.037895</td><td>0.9686195 .. 0.0012408546</td><td>14.551835 .. 14.550645</td><td>9.900377 .. 9.893931</td><td>51930253 .. 51930251</td><td>0.20197922 .. 0.45379204</td><td>9.523486e-20 .. 2.738783e-06</td><td>323</td><td></td></tr>\n",
       "</table>"
      ],
      "text/plain": [
       "<Table length=100>\n",
       "  id          name                 ra         ...  diam   run  \n",
       "int32       bytes20             float64       ... int32 bytes14\n",
       "----- -------------------- ------------------ ... ----- -------\n",
       "    6 RMJ133520.1+410004.1 203.83372267931975 ...   413        \n",
       "   27 RMJ094951.8+170710.6  147.4658410759847 ...   292        \n",
       "  215 RMJ111514.8+531954.6  168.8118656245974 ...   258        \n",
       "  250 RMJ222842.7+083924.4 337.17778435319144 ...   277        \n",
       "    5 RMJ090912.2+105824.9 137.30074463519105 ...   526        \n",
       "  129 RMJ015949.3-084958.9  29.95555555246912 ...   281        \n",
       "  424 RMJ110608.5+333339.7  166.5353534172606 ...   251        \n",
       "  320 RMJ221145.9-034944.5 332.94131100281584 ...   273        \n",
       "  304 RMJ012542.3-063442.3 21.426365942207184 ...   270        \n",
       "   56 RMJ121218.5+273255.1  183.0770101051668 ...   307        \n",
       "  ...                  ...                ... ...   ...     ...\n",
       "18748 RMJ124409.3+013923.7  191.0386298837626 ...   296        \n",
       "17773 RMJ093400.1+081821.8  143.5003309517878 ...   303        \n",
       "28428 RMJ001256.8+353148.1 3.2368655144707645 ...   301        \n",
       "28698 RMJ090909.2+365124.2 137.28816907639862 ...   316        \n",
       "22830 RMJ231826.3+070312.7  349.6097237620826 ...   419        \n",
       "33706 RMJ012251.5-061659.5 20.714637099409146 ...   317        \n",
       "31226 RMJ150357.4+362756.2 225.98937476026623 ...   317        \n",
       "24247 RMJ004529.0+081326.5 11.370957000908334 ...   365        \n",
       "20509 RMJ083819.5+181435.8 129.58125253296288 ...   441        \n",
       "46629 RMJ005812.4+095401.4 14.551835436325405 ...   323        "
      ]
     },
     "execution_count": 12,
     "metadata": {},
     "output_type": "execute_result"
    }
   ],
   "source": [
    "cat = read_redmapper()\n",
    "cat"
   ]
  },
  {
   "cell_type": "code",
   "execution_count": 13,
   "metadata": {},
   "outputs": [
    {
     "data": {
      "image/png": "[encoded data removed]",
      "text/plain": [
       "<matplotlib.figure.Figure at 0x2aaae1888518>"
      ]
     },
     "metadata": {
      "needs_background": "light"
     },
     "output_type": "display_data"
    }
   ],
   "source": [
    "#_ = plt.hist(cat['mag_10'], bins=30)\n",
    "_ = plt.hist(cat['z_lambda'], bins=30)"
   ]
  },
  {
   "cell_type": "code",
   "execution_count": 14,
   "metadata": {},
   "outputs": [
    {
     "data": {
      "image/png": "[encoded data removed]",
      "text/plain": [
       "<matplotlib.figure.Figure at 0x2aaae18cb908>"
      ]
     },
     "metadata": {
      "needs_background": "light"
     },
     "output_type": "display_data"
    }
   ],
   "source": [
    "_ = plt.hist(cat['lambda'], bins=30)"
   ]
  },
  {
   "cell_type": "code",
   "execution_count": 15,
   "metadata": {},
   "outputs": [
    {
     "data": {
      "image/png": "[encoded data removed]",
      "text/plain": [
       "<matplotlib.figure.Figure at 0x2aaae19a20f0>"
      ]
     },
     "metadata": {
      "needs_background": "light"
     },
     "output_type": "display_data"
    }
   ],
   "source": [
    "_ = plt.hist(cat['diam'], bins=30)"
   ]
  },
  {
   "cell_type": "markdown",
   "metadata": {},
   "source": [
    "### Restrict to objects that are in the DR8 footprint."
   ]
  },
  {
   "cell_type": "code",
   "execution_count": 16,
   "metadata": {},
   "outputs": [],
   "source": [
    "def read_all_ccds(dr='dr8'):                                                                                                        \n",
    "    \"\"\"Read the CCDs files, treating DECaLS and BASS+MzLS separately.                                                               \n",
    "                                                                                                                                    \n",
    "    \"\"\"                                                                                                                             \n",
    "    from astrometry.libkd.spherematch import tree_open                                                                              \n",
    "    #survey = LegacySurveyData()                                                                                                    \n",
    "                                                                                                                                    \n",
    "    kdccds_north = []                                                                                                               \n",
    "    for camera in ('90prime', 'mosaic'):                                                                                            \n",
    "        ccdsfile = os.path.join(drdir, 'survey-ccds-{}-{}.kd.fits'.format(camera, dr))                                              \n",
    "        ccds = tree_open(ccdsfile, 'ccds')                                                                                          \n",
    "        print('Read {} CCDs from {}'.format(ccds.n, ccdsfile))                                                                      \n",
    "        kdccds_north.append((ccdsfile, ccds))                                                                                       \n",
    "                                                                                                                                    \n",
    "    ccdsfile = os.path.join(drdir, 'survey-ccds-decam-{}.kd.fits'.format(dr))                                                       \n",
    "    ccds = tree_open(ccdsfile, 'ccds')                                                                                              \n",
    "    print('Read {} CCDs from {}'.format(ccds.n, ccdsfile))                                                                          \n",
    "    kdccds_south = (ccdsfile, ccds)                                                                                                 \n",
    "                                                                                                                                    \n",
    "    return kdccds_north, kdccds_south                                                                                               "
   ]
  },
  {
   "cell_type": "code",
   "execution_count": 17,
   "metadata": {},
   "outputs": [
    {
     "name": "stdout",
     "output_type": "stream",
     "text": [
      "Read 132066 CCDs from /global/project/projectdirs/cosmo/work/legacysurvey/dr8/survey-ccds-90prime-dr8.kd.fits\n",
      "Read 206834 CCDs from /global/project/projectdirs/cosmo/work/legacysurvey/dr8/survey-ccds-mosaic-dr8.kd.fits\n",
      "Read 3913907 CCDs from /global/project/projectdirs/cosmo/work/legacysurvey/dr8/survey-ccds-decam-dr8.kd.fits\n"
     ]
    }
   ],
   "source": [
    "kdccds_north, kdccds_south = read_all_ccds()"
   ]
  },
  {
   "cell_type": "code",
   "execution_count": 18,
   "metadata": {},
   "outputs": [],
   "source": [
    "survey = LegacySurveyData()\n",
    "survey.output_dir = gallerydir"
   ]
  },
  {
   "cell_type": "code",
   "execution_count": 19,
   "metadata": {},
   "outputs": [],
   "source": [
    "def get_name(cat, nice=False):\n",
    "    name = np.atleast_1d(cat['name'])\n",
    "    if nice:\n",
    "        outname = name\n",
    "    else:\n",
    "        outname = np.array([nn.replace(' ', '-').lower() for nn in name])\n",
    "    if len(outname) == 1:\n",
    "        outname = outname[0]\n",
    "    return outname"
   ]
  },
  {
   "cell_type": "code",
   "execution_count": 20,
   "metadata": {},
   "outputs": [],
   "source": [
    "def _build_sample_one(args):\n",
    "    \"\"\"Wrapper function for the multiprocessing.\"\"\"\n",
    "    return build_sample_one(*args)"
   ]
  },
  {
   "cell_type": "code",
   "execution_count": 21,
   "metadata": {},
   "outputs": [],
   "source": [
    "def build_sample_one(cat, verbose=False):\n",
    "    \"\"\"Determine the \"run\", i.e., determine whether we should use the BASS+MzLS CCDs\n",
    "    or the DECaLS CCDs file when running the pipeline. \n",
    "\n",
    "    \"\"\"\n",
    "    from astrometry.util.fits import fits_table, merge_tables   \n",
    "    from astrometry.util.util import Tan                                    \n",
    "    from astrometry.libkd.spherematch import tree_search_radec  \n",
    "    from legacypipe.survey import ccds_touching_wcs                         \n",
    "\n",
    "    ra, dec, diam = cat['ra'], cat['dec'], cat['diam']\n",
    "    if dec < 25:                        \n",
    "        run = 'decam'                       \n",
    "    elif dec > 40:                                      \n",
    "        run = '90prime-mosaic'      \n",
    "    else:                               \n",
    "        width = np.ceil(diam * 60 / PIXSCALE).astype(int)\n",
    "        wcs = Tan(ra, dec, width/2+0.5, width/2+0.5,\n",
    "                  -PIXSCALE/3600.0, 0.0, 0.0, PIXSCALE/3600.0, \n",
    "                  float(width), float(width))  \n",
    "                        \n",
    "        # BASS+MzLS \n",
    "        TT = []         \n",
    "        for fn, kd in kdccds_north:\n",
    "            I = tree_search_radec(kd, ra, dec, 1.0)\n",
    "            if len(I) == 0:\n",
    "                continue\n",
    "            TT.append(fits_table(fn, rows=I))  \n",
    "        if len(TT) == 0:                    \n",
    "            inorth = []                     \n",
    "        else:                           \n",
    "            ccds = merge_tables(TT, columns='fillzero')     \n",
    "            inorth = ccds_touching_wcs(wcs, ccds)   \n",
    "                                    \n",
    "        # DECaLS            \n",
    "        fn, kd = kdccds_south  \n",
    "        I = tree_search_radec(kd, ra, dec, 1.0) \n",
    "        if len(I) > 0:          \n",
    "            ccds = fits_table(fn, rows=I)  \n",
    "            isouth = ccds_touching_wcs(wcs, ccds)  \n",
    "        else: \n",
    "            isouth = []\n",
    "        if len(inorth) > len(isouth): \n",
    "            run = '90prime-mosaic' \n",
    "        else:\n",
    "            run = 'decam' \n",
    "            \n",
    "        if verbose:\n",
    "            print('Cluster {}: RA, Dec={:.6f}, {:.6f}: run={} ({} north CCDs, {} south CCDs).'.format(\n",
    "                cat['name'], ra, dec, run, len(inorth), len(isouth)))\n",
    "            \n",
    "        if (len(inorth) == 0) * (len(isouth) == 0):\n",
    "            run = None\n",
    "            \n",
    "    if run:\n",
    "        cat['run'] = run\n",
    "        return cat\n",
    "    else:\n",
    "        return None"
   ]
  },
  {
   "cell_type": "code",
   "execution_count": 22,
   "metadata": {},
   "outputs": [],
   "source": [
    "def build_sample(cat, use_nproc=nproc, verbose=False):\n",
    "    \"\"\"Build the full sample with grz coverage in DR7.\"\"\"\n",
    "\n",
    "    sampleargs = list()\n",
    "    for cc in cat:\n",
    "        sampleargs.append( (cc, verbose) )\n",
    "\n",
    "    if use_nproc > 1:\n",
    "        p = multiprocessing.Pool(nproc)\n",
    "        result = p.map(_build_sample_one, sampleargs)\n",
    "        p.close()\n",
    "    else:\n",
    "        result = list()\n",
    "        for args in sampleargs:\n",
    "            result.append(_build_sample_one(args))\n",
    "\n",
    "    #result = list(zip(*result))\n",
    "    # Remove non-matching objects and write out the sample\n",
    "    outcat = vstack(list(filter(None, result)))\n",
    "    print('Found {}/{} clusters in the DR8 footprint.'.format(len(outcat), len(cat)))\n",
    "    \n",
    "    return outcat"
   ]
  },
  {
   "cell_type": "code",
   "execution_count": 23,
   "metadata": {},
   "outputs": [],
   "source": [
    "#rr = build_sample(cat, use_nproc=4, verbose=True)"
   ]
  },
  {
   "cell_type": "code",
   "execution_count": 24,
   "metadata": {},
   "outputs": [
    {
     "name": "stdout",
     "output_type": "stream",
     "text": [
      "Building the sample.\n",
      "Logging to /global/cscratch1/sd/ioannis/dr8/gallery/build-sample.log\n",
      "Found 100/100 objects in the DR8 footprint.\n",
      "Total time = 1.771 seconds.\n"
     ]
    }
   ],
   "source": [
    "samplelogfile = os.path.join(gallerydir, 'build-sample.log')\n",
    "print('Building the sample.')\n",
    "print('Logging to {}'.format(samplelogfile))\n",
    "t0 = time.time()\n",
    "with open(samplelogfile, 'w') as log:\n",
    "    with redirect_stdout(log):\n",
    "        sample = build_sample(cat)\n",
    "print('Found {}/{} objects in the DR8 footprint.'.format(len(sample), len(cat)))\n",
    "print('Total time = {:.3f} seconds.'.format(time.time() - t0))"
   ]
  },
  {
   "cell_type": "code",
   "execution_count": 25,
   "metadata": {},
   "outputs": [
    {
     "name": "stdout",
     "output_type": "stream",
     "text": [
      "Writing /global/cscratch1/sd/ioannis/dr8/gallery/sample-dr8.fits\n"
     ]
    }
   ],
   "source": [
    "print('Writing {}'.format(samplefile))\n",
    "sample.write(samplefile, overwrite=True)"
   ]
  },
  {
   "cell_type": "code",
   "execution_count": 26,
   "metadata": {},
   "outputs": [],
   "source": [
    "#sample"
   ]
  },
  {
   "cell_type": "code",
   "execution_count": 27,
   "metadata": {},
   "outputs": [
    {
     "name": "stdout",
     "output_type": "stream",
     "text": [
      "RMJ133520.1+410004.1 203.83372267931975 41.0011464409052\n",
      "RMJ094951.8+170710.6 147.4658410759847 17.119597497572737\n",
      "RMJ111514.8+531954.6 168.8118656245974 53.33182359555929\n",
      "RMJ222842.7+083924.4 337.17778435319144 8.656782036448227\n",
      "RMJ090912.2+105824.9 137.30074463519105 10.97359493545774\n",
      "RMJ015949.3-084958.9 29.95555555246912 -8.833034764060354\n",
      "RMJ110608.5+333339.7 166.5353534172606 33.56102371348592\n",
      "RMJ221145.9-034944.5 332.94131100281584 -3.8290286994715883\n",
      "RMJ012542.3-063442.3 21.426365942207184 -6.57842375184543\n",
      "RMJ121218.5+273255.1 183.0770101051668 27.548647731379972\n"
     ]
    },
    {
     "data": {
      "text/plain": [
       "[None, None, None, None, None, None, None, None, None, None]"
      ]
     },
     "execution_count": 27,
     "metadata": {},
     "output_type": "execute_result"
    }
   ],
   "source": [
    "[print(ss['name'].replace(' ', '-'), ss['ra'], ss['dec']) for ss in sample[:10]]\n",
    "#[print(ss['ra'], ss['dec']) for ss in sample]"
   ]
  },
  {
   "cell_type": "code",
   "execution_count": 28,
   "metadata": {},
   "outputs": [],
   "source": [
    "def qa_sample():\n",
    "    fig, ax = plt.subplots()\n",
    "    ax.scatter(cat['ra'], cat['dec'], alpha=0.5, s=10, label='Abell Catalog')\n",
    "    ax.scatter(sample['ra'], sample['dec'], s=20, marker='s', label='Objects in DR8 Footprint')\n",
    "    ax.set_xlabel('RA')\n",
    "    ax.set_ylabel('Dec')\n",
    "    ax.legend(loc='upper right')"
   ]
  },
  {
   "cell_type": "code",
   "execution_count": 29,
   "metadata": {},
   "outputs": [
    {
     "data": {
      "image/png": "[encoded data removed]",
      "text/plain": [
       "<matplotlib.figure.Figure at 0x2aaae582be10>"
      ]
     },
     "metadata": {
      "needs_background": "light"
     },
     "output_type": "display_data"
    }
   ],
   "source": [
    "qa_sample()"
   ]
  },
  {
   "cell_type": "markdown",
   "metadata": {},
   "source": [
    "### Generate the color mosaics for each object."
   ]
  },
  {
   "cell_type": "code",
   "execution_count": 30,
   "metadata": {},
   "outputs": [],
   "source": [
    "def custom_brickname(obj, prefix='custom-'): \n",
    "    brickname = 'custom-{:06d}{}{:05d}'.format(\n",
    "        int(1000*obj['ra']), 'm' if obj['dec'] < 0 else 'p', \n",
    "        int(1000*np.abs(obj['dec'])))\n",
    "    return brickname"
   ]
  },
  {
   "cell_type": "code",
   "execution_count": 31,
   "metadata": {},
   "outputs": [],
   "source": [
    "#name = get_name(sample)\n",
    "#[print(ii, nn, d1, dd) for ii, (nn, d1, dd) in enumerate(zip(name, sample['diam'], sample['diam'] * 60 / 0.3))]\n",
    "#print(sample['diam'].data * 60 / 1)"
   ]
  },
  {
   "cell_type": "code",
   "execution_count": 32,
   "metadata": {},
   "outputs": [],
   "source": [
    "def custom_coadds_one(obj, scale=PIXSCALE, clobber=False, log=None):\n",
    "    import subprocess\n",
    "    #from legacypipe.runbrick import run_brick\n",
    "    #from astrometry.util.multiproc import multiproc\n",
    "    #from legacypipe.runbrick import stage_tims, run_brick\n",
    "    #from legacypipe.coadds import make_coadds\n",
    "\n",
    "    name = get_name(obj)\n",
    "    jpgfile = os.path.join(jpgdir, '{}.jpg'.format(name))\n",
    "    if os.path.isfile(jpgfile) and not clobber:\n",
    "        print('File {} exists...skipping.'.format(jpgfile))\n",
    "    else:\n",
    "        size = obj['diam']\n",
    "        #size = np.rint(obj['diam'] * 60 / scale).astype('int') # [pixels]\n",
    "        #if size > 500:\n",
    "        #    size = 500\n",
    "        #print('Generating mosaic for {} with width={} pixels.'.format(name, size))\n",
    "        \n",
    "        bands = ('g', 'r', 'z')\n",
    "        rgb_kwargs = dict({'Q': 20, 'm': 0.03})\n",
    "            \n",
    "        brickname = custom_brickname(obj, prefix='custom-')\n",
    "        \n",
    "        cmd = 'python {legacypipe_dir}/py/legacypipe/runbrick.py '\n",
    "        cmd += '--radec {ra} {dec} --width {width} --height {width} --pixscale {pixscale} '\n",
    "        cmd += '--run {run} '\n",
    "        cmd += '--threads {threads} --outdir {outdir} --no-write '\n",
    "        #cmd += '--apodize '\n",
    "        cmd += '--stage image_coadds --skip-calibs '\n",
    "    \n",
    "        cmd = cmd.format(legacypipe_dir=os.getenv('LEGACYPIPE_DIR'), \n",
    "                         ra=obj['ra'], dec=obj['dec'], run=obj['run'].strip(),\n",
    "                         width=size, pixscale=scale, threads=nproc, \n",
    "                         outdir=gallerydir)\n",
    "    \n",
    "        print(cmd, flush=True, file=log)\n",
    "        err = subprocess.call(cmd.split(), stdout=log, stderr=log)\n",
    "        if err != 0:\n",
    "            print('Something we wrong; please check the logfile for {}.'.format(name))\n",
    "            return 0\n",
    "        else:\n",
    "            #with warnings.catch_warnings():\n",
    "            #    warnings.simplefilter(\"ignore\")\n",
    "            #    run_brick(None, survey, radec=(obj['ra'], obj['dec']), pixscale=scale, \n",
    "            #              width=size, height=size, rgb_kwargs=rgb_kwargs, threads=nproc, \n",
    "            #              stages=['image_coadds'], splinesky=True, early_coadds=True, pixPsf=True, \n",
    "            #              hybridPsf=True, normalizePsf=True, write_pickles=False, depth_cut=False, \n",
    "            #              apodize=True, do_calibs=False, ceres=False)\n",
    "            #sys.stdout.flush()    \n",
    "            \n",
    "            _jpgfile = os.path.join(survey.output_dir, 'coadd', 'cus', brickname, \n",
    "                                   'legacysurvey-{}-image.jpg'.format(brickname))\n",
    "            if os.path.isfile(_jpgfile):\n",
    "                shutil.copy(_jpgfile, jpgfile)\n",
    "                shutil.rmtree(os.path.join(survey.output_dir, 'coadd'))\n",
    "                shutil.rmtree(os.path.join(survey.output_dir, 'metrics'))\n",
    "            else:\n",
    "                print('File {} not found; check log!'.format(_jpgfile))"
   ]
  },
  {
   "cell_type": "code",
   "execution_count": 33,
   "metadata": {},
   "outputs": [],
   "source": [
    "#custom_coadds_one(sample[320], scale=2, clobber=True)"
   ]
  },
  {
   "cell_type": "code",
   "execution_count": 34,
   "metadata": {},
   "outputs": [],
   "source": [
    "def custom_coadds(sample, clobber=False, log=None):\n",
    "    for obj in sample:\n",
    "        custom_coadds_one(obj, clobber=clobber, log=log)"
   ]
  },
  {
   "cell_type": "code",
   "execution_count": 35,
   "metadata": {},
   "outputs": [
    {
     "name": "stdout",
     "output_type": "stream",
     "text": [
      "Generating the coadds.\n",
      "Logging to /global/cscratch1/sd/ioannis/dr8/gallery/make-coadds.log\n",
      "File /global/cscratch1/sd/ioannis/dr8/gallery/coadd/cus/custom-226728p34551/legacysurvey-custom-226728p34551-image.jpg not found; check log!\n",
      "File /global/cscratch1/sd/ioannis/dr8/gallery/coadd/cus/custom-003236p35530/legacysurvey-custom-003236p35530-image.jpg not found; check log!\n",
      "Total time = 51.255 minutes.\n"
     ]
    }
   ],
   "source": [
    "coaddslogfile = os.path.join(gallerydir, 'make-coadds.log')\n",
    "print('Generating the coadds.')\n",
    "print('Logging to {}'.format(coaddslogfile))\n",
    "t0 = time.time()\n",
    "with open(coaddslogfile, 'w') as log:\n",
    "    #with redirect_stdout(log):\n",
    "    custom_coadds(sample, clobber=True, log=log)\n",
    "print('Total time = {:.3f} minutes.'.format((time.time() - t0) / 60))"
   ]
  },
  {
   "cell_type": "markdown",
   "metadata": {},
   "source": [
    "### Add labels and a scale bar."
   ]
  },
  {
   "cell_type": "code",
   "execution_count": 57,
   "metadata": {},
   "outputs": [],
   "source": [
    "barlen = np.round(15.0 / PIXSCALE).astype('int')\n",
    "fonttype = os.path.join(gallerydir, 'Georgia-Italic.ttf')"
   ]
  },
  {
   "cell_type": "code",
   "execution_count": 74,
   "metadata": {},
   "outputs": [],
   "source": [
    "def _add_labels_one(args):\n",
    "    \"\"\"Wrapper function for the multiprocessing.\"\"\"\n",
    "    return add_labels_one(*args)"
   ]
  },
  {
   "cell_type": "code",
   "execution_count": 75,
   "metadata": {},
   "outputs": [],
   "source": [
    "def add_labels_one(obj, verbose=False):\n",
    "    name = get_name(obj)\n",
    "    nicename = get_name(obj, nice=True)\n",
    "    \n",
    "    jpgfile = os.path.join(jpgdir, '{}.jpg'.format(name))\n",
    "    pngfile = os.path.join(pngdir, '{}.png'.format(name))\n",
    "    thumbfile = os.path.join(pngdir, 'thumb-{}.png'.format(name))\n",
    "    \n",
    "    if os.path.isfile(jpgfile):\n",
    "        im = Image.open(jpgfile)\n",
    "        sz = im.size\n",
    "        fntsize = np.round(sz[0]/28).astype('int')\n",
    "        if fntsize < 10:\n",
    "            fntsize = 10\n",
    "        width = np.round(sz[0]/175).astype('int')\n",
    "        font = ImageFont.truetype(fonttype, size=fntsize)\n",
    "        draw = ImageDraw.Draw(im)\n",
    "        # Label the object name--\n",
    "        draw.text((0+fntsize*2, 0+fntsize*2), nicename, font=font)\n",
    "        # Add a scale bar--\n",
    "        x0, x1, yy = sz[1]-fntsize*2-barlen, sz[1]-fntsize*2, sz[0]-fntsize*2\n",
    "        draw.line((x0, yy, x1, yy), fill='white', width=width)\n",
    "        im.save(pngfile)    \n",
    "        \n",
    "        # Generate a thumbnail\n",
    "        if False:\n",
    "            cmd = '/usr/bin/convert -thumbnail 300x300 {} {}'.format(pngfile, thumbfile)\n",
    "            os.system(cmd)\n",
    "    else:\n",
    "        print('File {} not found.'.format(jpgfile))"
   ]
  },
  {
   "cell_type": "code",
   "execution_count": 76,
   "metadata": {},
   "outputs": [],
   "source": [
    "def add_labels(sample):\n",
    "    labelargs = list()\n",
    "    for obj in sample:\n",
    "        labelargs.append((obj, False))\n",
    "\n",
    "    #if False:\n",
    "    if nproc > 1:\n",
    "        p = multiprocessing.Pool(nproc)\n",
    "        res = p.map(_add_labels_one, labelargs)\n",
    "        p.close()\n",
    "    else:\n",
    "        for args in labelargs:\n",
    "            res = _add_labels_one(args)"
   ]
  },
  {
   "cell_type": "code",
   "execution_count": 77,
   "metadata": {},
   "outputs": [
    {
     "name": "stdout",
     "output_type": "stream",
     "text": [
      "File /global/cscratch1/sd/ioannis/dr8/gallery/jpg/rmj150654.9+343306.1.jpg not found.\n",
      "File /global/cscratch1/sd/ioannis/dr8/gallery/jpg/rmj001256.8+353148.1.jpg not found.\n",
      "CPU times: user 205 ms, sys: 307 ms, total: 513 ms\n",
      "Wall time: 40.3 s\n"
     ]
    }
   ],
   "source": [
    "%time add_labels(sample)"
   ]
  },
  {
   "cell_type": "markdown",
   "metadata": {},
   "source": [
    "### Finally, assemble the webpage of good and rejected gallery images.\n",
    "\n",
    "To test the webpage before release, do\n",
    "\n",
    "```bash\n",
    "rsync -auvPn --delete /global/cscratch1/sd/ioannis/dr8/gallery/png /global/project/projectdirs/cosmo/www/temp/ioannis/dr8/gallery/\n",
    "rsync -auvPn /global/cscratch1/sd/ioannis/dr8/gallery/*.html /global/project/projectdirs/cosmo/www/temp/ioannis/dr8/gallery/\n",
    "```\n",
    "    \n",
    "and then navigate to\n",
    "\n",
    "https://portal.nersc.gov/project/cosmo/temp/ioannis/dr8/gallery/"
   ]
  },
  {
   "cell_type": "code",
   "execution_count": 78,
   "metadata": {},
   "outputs": [
    {
     "name": "stdout",
     "output_type": "stream",
     "text": [
      "Rejecting 2 objects.\n"
     ]
    }
   ],
   "source": [
    "reject = ['rmj150654.9+343306.1', 'rmj001256.8+353148.1']\n",
    "toss = np.zeros(len(sample), dtype=bool)\n",
    "name = get_name(sample)\n",
    "for ii, nn in enumerate(name):\n",
    "    for rej in np.atleast_1d(reject):\n",
    "        toss[ii] = rej in nn.lower()\n",
    "        if toss[ii]:\n",
    "            break\n",
    "print('Rejecting {} objects.'.format(np.sum(toss)))\n",
    "pngkeep = sample[~toss]\n",
    "if np.sum(toss) > 0:\n",
    "    pngrej = sample[toss]\n",
    "else:\n",
    "    pngrej = []"
   ]
  },
  {
   "cell_type": "code",
   "execution_count": 79,
   "metadata": {},
   "outputs": [],
   "source": [
    "htmlfile = os.path.join(gallerydir, 'index.html')\n",
    "htmlfile_reject = os.path.join(gallerydir, 'index-reject.html')\n",
    "baseurl = 'http://legacysurvey.org/viewer'"
   ]
  },
  {
   "cell_type": "code",
   "execution_count": 83,
   "metadata": {},
   "outputs": [],
   "source": [
    "def html_rows(pngkeep, nperrow=4):\n",
    "    nrow = np.ceil(len(pngkeep) / nperrow).astype('int')\n",
    "    pngsplit = list()\n",
    "    for ii in range(nrow):\n",
    "        i1 = nperrow*ii\n",
    "        i2 = nperrow*(ii+1)\n",
    "        if i2 > len(pngkeep):\n",
    "            i2 = len(pngkeep)\n",
    "        pngsplit.append(pngkeep[i1:i2])\n",
    "    #pngsplit = np.array_split(pngkeep, nrow)\n",
    "    print('Splitting the sample into {} rows with {} mosaics per row.'.format(nrow, nperrow))\n",
    "\n",
    "    html.write('<table class=\"ls-gallery\">\\n')\n",
    "    html.write('<tbody>\\n')\n",
    "    for pngrow in pngsplit:\n",
    "        html.write('<tr>\\n')\n",
    "        for obj in pngrow:\n",
    "            name = get_name(obj)\n",
    "            nicename = get_name(obj, nice=True)\n",
    "            pngfile = os.path.join('png', '{}.png'.format(name))\n",
    "            thumbfile = os.path.join('png', '{}.png'.format(name))\n",
    "            #thumbfile = os.path.join('png', 'thumb-{}.png'.format(name))\n",
    "            img = 'src=\"{}\" alt=\"{}\"'.format(thumbfile, nicename)\n",
    "            #img = 'class=\"ls-gallery\" src=\"{}\" alt=\"{}\"'.format(thumbfile, nicename)\n",
    "            html.write('<td><a href=\"{}\"><img {} width=300px></a></td>\\n'.format(pngfile, img))\n",
    "        html.write('</tr>\\n')\n",
    "        html.write('<tr>\\n')\n",
    "        for obj in pngrow:\n",
    "            nicename = get_name(obj, nice=True)\n",
    "            href = '{}/?layer={}&ra={:.8f}&dec={:.8f}&zoom=12'.format(baseurl, dr, obj['ra'], obj['dec'])\n",
    "            html.write('<td><a href=\"{}\" target=\"_blank\">{}</a></td>\\n'.format(href, nicename))\n",
    "        html.write('</tr>\\n')\n",
    "    html.write('</tbody>\\n')            \n",
    "    html.write('</table>\\n')"
   ]
  },
  {
   "cell_type": "code",
   "execution_count": 84,
   "metadata": {},
   "outputs": [
    {
     "name": "stdout",
     "output_type": "stream",
     "text": [
      "Splitting the sample into 25 rows with 4 mosaics per row.\n"
     ]
    }
   ],
   "source": [
    "with open(htmlfile, 'w') as html:\n",
    "    html.write('<html><head>\\n')\n",
    "    html.write('<style type=\"text/css\">\\n')\n",
    "    html.write('table.ls-gallery {width: 90%;}\\n')\n",
    "    #html.write('img.ls-gallery {display: block;}\\n')\n",
    "    #html.write('td.ls-gallery {width: 100%; height: auto}\\n')\n",
    "    #html.write('td.ls-gallery {width: 100%; word-wrap: break-word;}\\n')\n",
    "    html.write('p.ls-gallery {width: 80%;}\\n')\n",
    "    html.write('</style>\\n')\n",
    "    html.write('</head><body>\\n')\n",
    "    html.write('<h1>DR8 Image Gallery</h1>\\n')\n",
    "    \n",
    "    html.write(\"\"\"<p class=\"ls-gallery\">This data release's gallery highlights galaxy clusters, \n",
    "    distant systems containing tens to thousands of individual galaxies and usually containing\n",
    "    a single, large, dominant galaxy at the very center.  The sample presented here is taken\n",
    "    from the <a href=\"http://risa.stanford.edu/redmapper/\">redMaPPer/v6.3</a> cluster catalog.</p>\\n\n",
    "    \n",
    "    <p class=\"ls-gallery\">The diameter of each image cutout equals 400 kiloparsecs (more than 1.2 million light-years) at the \n",
    "    redshift of the cluster.  The clusters are sorted by increasing richness or dark matter halo mass,\n",
    "    ranging between approximately 3x10<sup>15</sup> solar masses (top, left-hand side of the page)\n",
    "    to 1x10<sup>14</sup> solar masses (bottom-right).</p>\\n\n",
    "    \n",
    "    <p class=\"ls-gallery\">The object name below each thumbnail links to the <a href=\"http://legacysurvey.org/viewer\">Sky Viewer</a>, \n",
    "    and the horizontal white bar in the lower-right corner of each image represents 15 arcseconds.</p>\\n\"\"\")\n",
    "    \n",
    "    #<p class=\"ls-gallery\">For more eye candy, please visit the gallery of objects highlighted in the \n",
    "    #<a href=\"http://portal.nersc.gov/project/cosmo/data/legacysurvey/dr7/gallery/\">DR7 Gallery.</a></p>\\n\"\"\")\n",
    "    \n",
    "    html_rows(pngkeep)\n",
    "    html.write('<br />\\n')\n",
    "\n",
    "    html.write('</body></html>\\n')"
   ]
  },
  {
   "cell_type": "code",
   "execution_count": 82,
   "metadata": {},
   "outputs": [],
   "source": [
    "if len(pngrej) > 0 and False:\n",
    "    with open(htmlfile_reject, 'w') as html:\n",
    "        html.write('<html><head>\\n')\n",
    "        html.write('<style type=\"text/css\">\\n')\n",
    "        html.write('img.ls-gallery {display: block;}\\n')\n",
    "        html.write('td.ls-gallery {width: 20%; word-wrap: break-word;}\\n')\n",
    "        html.write('</style>\\n')\n",
    "        html.write('</head><body>\\n')\n",
    "        html.write('<h1>DR8 Image Gallery - Rejected</h1>\\n')\n",
    "        html_rows(pngrej)\n",
    "        html.write('</body></html>\\n')"
   ]
  },
  {
   "cell_type": "code",
   "execution_count": null,
   "metadata": {},
   "outputs": [],
   "source": []
  }
 ],
 "metadata": {
  "anaconda-cloud": {},
  "kernelspec": {
   "display_name": "legacypipe master",
   "language": "python",
   "name": "legacypipe-master"
  },
  "language_info": {
   "codemirror_mode": {
    "name": "ipython",
    "version": 3
   },
   "file_extension": ".py",
   "mimetype": "text/x-python",
   "name": "python",
   "nbconvert_exporter": "python",
   "pygments_lexer": "ipython3",
   "version": "3.6.6"
  }
 },
 "nbformat": 4,
 "nbformat_minor": 2
}
